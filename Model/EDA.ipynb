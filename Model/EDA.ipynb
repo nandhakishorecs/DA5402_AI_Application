{
 "cells": [
  {
   "cell_type": "code",
   "execution_count": 1,
   "metadata": {},
   "outputs": [],
   "source": [
    "import pandas as pd\n",
    "import numpy as np "
   ]
  },
  {
   "cell_type": "markdown",
   "metadata": {},
   "source": [
    "## Dataframe: data.csv"
   ]
  },
  {
   "cell_type": "code",
   "execution_count": 17,
   "metadata": {},
   "outputs": [
    {
     "name": "stdout",
     "output_type": "stream",
     "text": [
      "<class 'pandas.core.frame.DataFrame'>\n",
      "RangeIndex: 577 entries, 0 to 576\n",
      "Data columns (total 18 columns):\n",
      " #   Column           Non-Null Count  Dtype  \n",
      "---  ------           --------------  -----  \n",
      " 0   id               577 non-null    int64  \n",
      " 1   season           577 non-null    int64  \n",
      " 2   city             570 non-null    object \n",
      " 3   date             577 non-null    object \n",
      " 4   team1            577 non-null    object \n",
      " 5   team2            577 non-null    object \n",
      " 6   toss_winner      577 non-null    object \n",
      " 7   toss_decision    577 non-null    object \n",
      " 8   result           577 non-null    object \n",
      " 9   dl_applied       577 non-null    int64  \n",
      " 10  winner           574 non-null    object \n",
      " 11  win_by_runs      577 non-null    int64  \n",
      " 12  win_by_wickets   577 non-null    int64  \n",
      " 13  player_of_match  574 non-null    object \n",
      " 14  venue            577 non-null    object \n",
      " 15  umpire1          577 non-null    object \n",
      " 16  umpire2          577 non-null    object \n",
      " 17  umpire3          0 non-null      float64\n",
      "dtypes: float64(1), int64(5), object(12)\n",
      "memory usage: 81.3+ KB\n"
     ]
    }
   ],
   "source": [
    "df = pd.read_csv('/Users/nandhakishorecs/Documents/IITM/Jan_2025/DA5402/DA5402_AI_Application/Model/dataset/data.csv')\n",
    "df.info() "
   ]
  },
  {
   "cell_type": "code",
   "execution_count": 25,
   "metadata": {},
   "outputs": [
    {
     "name": "stdout",
     "output_type": "stream",
     "text": [
      "Number of Batting teams:9\n"
     ]
    },
    {
     "data": {
      "text/plain": [
       "array(['Chennai Super Kings', 'Delhi Capitals', 'Gujarat Lions',\n",
       "       'Kolkata Knight Riders', 'Mumbai Indians', 'Punjab Kings',\n",
       "       'Rajasthan Royals', 'Royal Challengers Bangalore',\n",
       "       'Sunrisers Hyderabad'], dtype=object)"
      ]
     },
     "execution_count": 25,
     "metadata": {},
     "output_type": "execute_result"
    }
   ],
   "source": [
    "print(f'Number of Batting teams:{len(np.unique(np.array(df['team1'])))}')\n",
    "np.unique(np.array(df['team1']))"
   ]
  },
  {
   "cell_type": "code",
   "execution_count": 26,
   "metadata": {},
   "outputs": [
    {
     "name": "stdout",
     "output_type": "stream",
     "text": [
      "Number of Bowling teams:9\n"
     ]
    },
    {
     "data": {
      "text/plain": [
       "array(['Chennai Super Kings', 'Delhi Capitals', 'Gujarat Lions',\n",
       "       'Kolkata Knight Riders', 'Mumbai Indians', 'Punjab Kings',\n",
       "       'Rajasthan Royals', 'Royal Challengers Bangalore',\n",
       "       'Sunrisers Hyderabad'], dtype=object)"
      ]
     },
     "execution_count": 26,
     "metadata": {},
     "output_type": "execute_result"
    }
   ],
   "source": [
    "print(f'Number of Bowling teams:{len(np.unique(np.array(df['team2'])))}')\n",
    "np.unique(np.array(df['team2']))"
   ]
  },
  {
   "cell_type": "code",
   "execution_count": null,
   "metadata": {},
   "outputs": [],
   "source": [
    "# Replace a team name in the specified column of a DataFrame.\n",
    "def replace_team_name(df: pd.DataFrame, old_name: str, new_name: str, column_name: str) -> pd.DataFrame:\n",
    "    df[column_name] = df[column_name].replace(old_name, new_name)\n",
    "    return df\n",
    "\n",
    "# Drop the row with team name in the specified column of a DataFrame.\n",
    "def drop_team_name(df: pd.DataFrame, team_to_drop: str, column_name: str) -> pd.DataFrame:\n",
    "    return df[df[column_name] != team_to_drop]"
   ]
  },
  {
   "cell_type": "code",
   "execution_count": 21,
   "metadata": {},
   "outputs": [],
   "source": [
    "df = drop_team_name(df, team_to_drop='Kochi Tuskers Kerala', column_name='team1')\n",
    "df = drop_team_name(df, team_to_drop='Kochi Tuskers Kerala', column_name='team2')\n",
    "\n",
    "df = drop_team_name(df, team_to_drop='Pune Warriors', column_name='team1')\n",
    "df = drop_team_name(df, team_to_drop='Pune Warriors', column_name='team2')\n",
    "\n",
    "df = drop_team_name(df, team_to_drop='Rising Pune Supergiants', column_name='team1')\n",
    "df = drop_team_name(df, team_to_drop='Rising Pune Supergiants', column_name='team2')\n",
    "\n",
    "df = replace_team_name(df, old_name = 'Deccan Chargers', new_name = 'Sunrisers Hyderabad', column_name = 'team1')\n",
    "df = replace_team_name(df, old_name = 'Deccan Chargers', new_name = 'Sunrisers Hyderabad', column_name = 'team2')"
   ]
  },
  {
   "cell_type": "code",
   "execution_count": 24,
   "metadata": {},
   "outputs": [],
   "source": [
    "df['team1'] = df['team1'].replace('Delhi Daredevils', 'Delhi Capitals')\n",
    "df['team2'] = df['team2'].replace('Delhi Daredevils', 'Delhi Capitals')\n",
    "\n",
    "df['team1'] = df['team1'].replace('Kings XI Punjab', 'Punjab Kings')\n",
    "df['team2'] = df['team2'].replace('Kings XI Punjab', 'Punjab Kings')"
   ]
  },
  {
   "cell_type": "code",
   "execution_count": 27,
   "metadata": {},
   "outputs": [
    {
     "data": {
      "application/vnd.microsoft.datawrangler.viewer.v0+json": {
       "columns": [
        {
         "name": "index",
         "rawType": "int64",
         "type": "integer"
        },
        {
         "name": "id",
         "rawType": "int64",
         "type": "integer"
        },
        {
         "name": "season",
         "rawType": "int64",
         "type": "integer"
        },
        {
         "name": "city",
         "rawType": "object",
         "type": "string"
        },
        {
         "name": "date",
         "rawType": "object",
         "type": "string"
        },
        {
         "name": "team1",
         "rawType": "object",
         "type": "string"
        },
        {
         "name": "team2",
         "rawType": "object",
         "type": "string"
        },
        {
         "name": "toss_winner",
         "rawType": "object",
         "type": "string"
        },
        {
         "name": "toss_decision",
         "rawType": "object",
         "type": "string"
        },
        {
         "name": "result",
         "rawType": "object",
         "type": "string"
        },
        {
         "name": "dl_applied",
         "rawType": "int64",
         "type": "integer"
        },
        {
         "name": "winner",
         "rawType": "object",
         "type": "string"
        },
        {
         "name": "win_by_runs",
         "rawType": "int64",
         "type": "integer"
        },
        {
         "name": "win_by_wickets",
         "rawType": "int64",
         "type": "integer"
        },
        {
         "name": "player_of_match",
         "rawType": "object",
         "type": "string"
        },
        {
         "name": "venue",
         "rawType": "object",
         "type": "string"
        },
        {
         "name": "umpire1",
         "rawType": "object",
         "type": "string"
        },
        {
         "name": "umpire2",
         "rawType": "object",
         "type": "string"
        },
        {
         "name": "umpire3",
         "rawType": "float64",
         "type": "float"
        }
       ],
       "conversionMethod": "pd.DataFrame",
       "ref": "eb5e1a6c-0f8e-400e-bc2a-bf7fea31b1fc",
       "rows": [
        [
         "0",
         "1",
         "2008",
         "Bangalore",
         "2008-04-18",
         "Kolkata Knight Riders",
         "Royal Challengers Bangalore",
         "Royal Challengers Bangalore",
         "field",
         "normal",
         "0",
         "Kolkata Knight Riders",
         "140",
         "0",
         "BB McCullum",
         "M Chinnaswamy Stadium",
         "Asad Rauf",
         "RE Koertzen",
         null
        ],
        [
         "1",
         "2",
         "2008",
         "Chandigarh",
         "2008-04-19",
         "Chennai Super Kings",
         "Punjab Kings",
         "Chennai Super Kings",
         "bat",
         "normal",
         "0",
         "Chennai Super Kings",
         "33",
         "0",
         "MEK Hussey",
         "Punjab Cricket Association Stadium, Mohali",
         "MR Benson",
         "SL Shastri",
         null
        ],
        [
         "2",
         "3",
         "2008",
         "Delhi",
         "2008-04-19",
         "Rajasthan Royals",
         "Delhi Capitals",
         "Rajasthan Royals",
         "bat",
         "normal",
         "0",
         "Delhi Daredevils",
         "0",
         "9",
         "MF Maharoof",
         "Feroz Shah Kotla",
         "Aleem Dar",
         "GA Pratapkumar",
         null
        ],
        [
         "3",
         "4",
         "2008",
         "Mumbai",
         "2008-04-20",
         "Mumbai Indians",
         "Royal Challengers Bangalore",
         "Mumbai Indians",
         "bat",
         "normal",
         "0",
         "Royal Challengers Bangalore",
         "0",
         "5",
         "MV Boucher",
         "Wankhede Stadium",
         "SJ Davis",
         "DJ Harper",
         null
        ],
        [
         "4",
         "5",
         "2008",
         "Kolkata",
         "2008-04-20",
         "Sunrisers Hyderabad",
         "Kolkata Knight Riders",
         "Deccan Chargers",
         "bat",
         "normal",
         "0",
         "Kolkata Knight Riders",
         "0",
         "5",
         "DJ Hussey",
         "Eden Gardens",
         "BF Bowden",
         "K Hariharan",
         null
        ]
       ],
       "shape": {
        "columns": 18,
        "rows": 5
       }
      },
      "text/html": [
       "<div>\n",
       "<style scoped>\n",
       "    .dataframe tbody tr th:only-of-type {\n",
       "        vertical-align: middle;\n",
       "    }\n",
       "\n",
       "    .dataframe tbody tr th {\n",
       "        vertical-align: top;\n",
       "    }\n",
       "\n",
       "    .dataframe thead th {\n",
       "        text-align: right;\n",
       "    }\n",
       "</style>\n",
       "<table border=\"1\" class=\"dataframe\">\n",
       "  <thead>\n",
       "    <tr style=\"text-align: right;\">\n",
       "      <th></th>\n",
       "      <th>id</th>\n",
       "      <th>season</th>\n",
       "      <th>city</th>\n",
       "      <th>date</th>\n",
       "      <th>team1</th>\n",
       "      <th>team2</th>\n",
       "      <th>toss_winner</th>\n",
       "      <th>toss_decision</th>\n",
       "      <th>result</th>\n",
       "      <th>dl_applied</th>\n",
       "      <th>winner</th>\n",
       "      <th>win_by_runs</th>\n",
       "      <th>win_by_wickets</th>\n",
       "      <th>player_of_match</th>\n",
       "      <th>venue</th>\n",
       "      <th>umpire1</th>\n",
       "      <th>umpire2</th>\n",
       "      <th>umpire3</th>\n",
       "    </tr>\n",
       "  </thead>\n",
       "  <tbody>\n",
       "    <tr>\n",
       "      <th>0</th>\n",
       "      <td>1</td>\n",
       "      <td>2008</td>\n",
       "      <td>Bangalore</td>\n",
       "      <td>2008-04-18</td>\n",
       "      <td>Kolkata Knight Riders</td>\n",
       "      <td>Royal Challengers Bangalore</td>\n",
       "      <td>Royal Challengers Bangalore</td>\n",
       "      <td>field</td>\n",
       "      <td>normal</td>\n",
       "      <td>0</td>\n",
       "      <td>Kolkata Knight Riders</td>\n",
       "      <td>140</td>\n",
       "      <td>0</td>\n",
       "      <td>BB McCullum</td>\n",
       "      <td>M Chinnaswamy Stadium</td>\n",
       "      <td>Asad Rauf</td>\n",
       "      <td>RE Koertzen</td>\n",
       "      <td>NaN</td>\n",
       "    </tr>\n",
       "    <tr>\n",
       "      <th>1</th>\n",
       "      <td>2</td>\n",
       "      <td>2008</td>\n",
       "      <td>Chandigarh</td>\n",
       "      <td>2008-04-19</td>\n",
       "      <td>Chennai Super Kings</td>\n",
       "      <td>Punjab Kings</td>\n",
       "      <td>Chennai Super Kings</td>\n",
       "      <td>bat</td>\n",
       "      <td>normal</td>\n",
       "      <td>0</td>\n",
       "      <td>Chennai Super Kings</td>\n",
       "      <td>33</td>\n",
       "      <td>0</td>\n",
       "      <td>MEK Hussey</td>\n",
       "      <td>Punjab Cricket Association Stadium, Mohali</td>\n",
       "      <td>MR Benson</td>\n",
       "      <td>SL Shastri</td>\n",
       "      <td>NaN</td>\n",
       "    </tr>\n",
       "    <tr>\n",
       "      <th>2</th>\n",
       "      <td>3</td>\n",
       "      <td>2008</td>\n",
       "      <td>Delhi</td>\n",
       "      <td>2008-04-19</td>\n",
       "      <td>Rajasthan Royals</td>\n",
       "      <td>Delhi Capitals</td>\n",
       "      <td>Rajasthan Royals</td>\n",
       "      <td>bat</td>\n",
       "      <td>normal</td>\n",
       "      <td>0</td>\n",
       "      <td>Delhi Daredevils</td>\n",
       "      <td>0</td>\n",
       "      <td>9</td>\n",
       "      <td>MF Maharoof</td>\n",
       "      <td>Feroz Shah Kotla</td>\n",
       "      <td>Aleem Dar</td>\n",
       "      <td>GA Pratapkumar</td>\n",
       "      <td>NaN</td>\n",
       "    </tr>\n",
       "    <tr>\n",
       "      <th>3</th>\n",
       "      <td>4</td>\n",
       "      <td>2008</td>\n",
       "      <td>Mumbai</td>\n",
       "      <td>2008-04-20</td>\n",
       "      <td>Mumbai Indians</td>\n",
       "      <td>Royal Challengers Bangalore</td>\n",
       "      <td>Mumbai Indians</td>\n",
       "      <td>bat</td>\n",
       "      <td>normal</td>\n",
       "      <td>0</td>\n",
       "      <td>Royal Challengers Bangalore</td>\n",
       "      <td>0</td>\n",
       "      <td>5</td>\n",
       "      <td>MV Boucher</td>\n",
       "      <td>Wankhede Stadium</td>\n",
       "      <td>SJ Davis</td>\n",
       "      <td>DJ Harper</td>\n",
       "      <td>NaN</td>\n",
       "    </tr>\n",
       "    <tr>\n",
       "      <th>4</th>\n",
       "      <td>5</td>\n",
       "      <td>2008</td>\n",
       "      <td>Kolkata</td>\n",
       "      <td>2008-04-20</td>\n",
       "      <td>Sunrisers Hyderabad</td>\n",
       "      <td>Kolkata Knight Riders</td>\n",
       "      <td>Deccan Chargers</td>\n",
       "      <td>bat</td>\n",
       "      <td>normal</td>\n",
       "      <td>0</td>\n",
       "      <td>Kolkata Knight Riders</td>\n",
       "      <td>0</td>\n",
       "      <td>5</td>\n",
       "      <td>DJ Hussey</td>\n",
       "      <td>Eden Gardens</td>\n",
       "      <td>BF Bowden</td>\n",
       "      <td>K Hariharan</td>\n",
       "      <td>NaN</td>\n",
       "    </tr>\n",
       "  </tbody>\n",
       "</table>\n",
       "</div>"
      ],
      "text/plain": [
       "   id  season        city        date                  team1  \\\n",
       "0   1    2008   Bangalore  2008-04-18  Kolkata Knight Riders   \n",
       "1   2    2008  Chandigarh  2008-04-19    Chennai Super Kings   \n",
       "2   3    2008       Delhi  2008-04-19       Rajasthan Royals   \n",
       "3   4    2008      Mumbai  2008-04-20         Mumbai Indians   \n",
       "4   5    2008     Kolkata  2008-04-20    Sunrisers Hyderabad   \n",
       "\n",
       "                         team2                  toss_winner toss_decision  \\\n",
       "0  Royal Challengers Bangalore  Royal Challengers Bangalore         field   \n",
       "1                 Punjab Kings          Chennai Super Kings           bat   \n",
       "2               Delhi Capitals             Rajasthan Royals           bat   \n",
       "3  Royal Challengers Bangalore               Mumbai Indians           bat   \n",
       "4        Kolkata Knight Riders              Deccan Chargers           bat   \n",
       "\n",
       "   result  dl_applied                       winner  win_by_runs  \\\n",
       "0  normal           0        Kolkata Knight Riders          140   \n",
       "1  normal           0          Chennai Super Kings           33   \n",
       "2  normal           0             Delhi Daredevils            0   \n",
       "3  normal           0  Royal Challengers Bangalore            0   \n",
       "4  normal           0        Kolkata Knight Riders            0   \n",
       "\n",
       "   win_by_wickets player_of_match                                       venue  \\\n",
       "0               0     BB McCullum                       M Chinnaswamy Stadium   \n",
       "1               0      MEK Hussey  Punjab Cricket Association Stadium, Mohali   \n",
       "2               9     MF Maharoof                            Feroz Shah Kotla   \n",
       "3               5      MV Boucher                            Wankhede Stadium   \n",
       "4               5       DJ Hussey                                Eden Gardens   \n",
       "\n",
       "     umpire1         umpire2  umpire3  \n",
       "0  Asad Rauf     RE Koertzen      NaN  \n",
       "1  MR Benson      SL Shastri      NaN  \n",
       "2  Aleem Dar  GA Pratapkumar      NaN  \n",
       "3   SJ Davis       DJ Harper      NaN  \n",
       "4  BF Bowden     K Hariharan      NaN  "
      ]
     },
     "execution_count": 27,
     "metadata": {},
     "output_type": "execute_result"
    }
   ],
   "source": [
    "df.head() "
   ]
  },
  {
   "cell_type": "code",
   "execution_count": 29,
   "metadata": {},
   "outputs": [
    {
     "data": {
      "text/plain": [
       "array(['Barabati Stadium', 'Brabourne Stadium', 'Buffalo Park',\n",
       "       'De Beers Diamond Oval', 'Dr DY Patil Sports Academy',\n",
       "       'Dr. Y.S. Rajasekhara Reddy ACA-VDCA Cricket Stadium',\n",
       "       'Dubai International Cricket Stadium', 'Eden Gardens',\n",
       "       'Feroz Shah Kotla', 'Green Park',\n",
       "       'Himachal Pradesh Cricket Association Stadium',\n",
       "       'JSCA International Stadium Complex', 'Kingsmead',\n",
       "       'M Chinnaswamy Stadium', 'MA Chidambaram Stadium, Chepauk',\n",
       "       'Maharashtra Cricket Association Stadium', 'New Wanderers Stadium',\n",
       "       'Newlands', 'OUTsurance Oval',\n",
       "       'Punjab Cricket Association IS Bindra Stadium, Mohali',\n",
       "       'Punjab Cricket Association Stadium, Mohali',\n",
       "       'Rajiv Gandhi International Stadium, Uppal',\n",
       "       'Sardar Patel Stadium, Motera',\n",
       "       'Saurashtra Cricket Association Stadium', 'Sawai Mansingh Stadium',\n",
       "       'Shaheed Veer Narayan Singh International Stadium',\n",
       "       'Sharjah Cricket Stadium', 'Sheikh Zayed Stadium',\n",
       "       \"St George's Park\", 'Subrata Roy Sahara Stadium',\n",
       "       'SuperSport Park', 'Vidarbha Cricket Association Stadium, Jamtha',\n",
       "       'Wankhede Stadium'], dtype=object)"
      ]
     },
     "execution_count": 29,
     "metadata": {},
     "output_type": "execute_result"
    }
   ],
   "source": [
    "np.unique(np.array(df['venue']))"
   ]
  },
  {
   "cell_type": "code",
   "execution_count": null,
   "metadata": {},
   "outputs": [],
   "source": []
  },
  {
   "cell_type": "code",
   "execution_count": null,
   "metadata": {},
   "outputs": [],
   "source": []
  },
  {
   "cell_type": "markdown",
   "metadata": {},
   "source": [
    "## Dataframe: deliveries.csv"
   ]
  },
  {
   "cell_type": "code",
   "execution_count": 2,
   "metadata": {},
   "outputs": [
    {
     "name": "stdout",
     "output_type": "stream",
     "text": [
      "<class 'pandas.core.frame.DataFrame'>\n",
      "RangeIndex: 260920 entries, 0 to 260919\n",
      "Data columns (total 17 columns):\n",
      " #   Column            Non-Null Count   Dtype \n",
      "---  ------            --------------   ----- \n",
      " 0   match_id          260920 non-null  int64 \n",
      " 1   inning            260920 non-null  int64 \n",
      " 2   batting_team      260920 non-null  object\n",
      " 3   bowling_team      260920 non-null  object\n",
      " 4   over              260920 non-null  int64 \n",
      " 5   ball              260920 non-null  int64 \n",
      " 6   batter            260920 non-null  object\n",
      " 7   bowler            260920 non-null  object\n",
      " 8   non_striker       260920 non-null  object\n",
      " 9   batsman_runs      260920 non-null  int64 \n",
      " 10  extra_runs        260920 non-null  int64 \n",
      " 11  total_runs        260920 non-null  int64 \n",
      " 12  extras_type       14125 non-null   object\n",
      " 13  is_wicket         260920 non-null  int64 \n",
      " 14  player_dismissed  12950 non-null   object\n",
      " 15  dismissal_kind    12950 non-null   object\n",
      " 16  fielder           9354 non-null    object\n",
      "dtypes: int64(8), object(9)\n",
      "memory usage: 33.8+ MB\n"
     ]
    }
   ],
   "source": [
    "df1 = pd.read_csv('/Users/nandhakishorecs/Documents/IITM/Jan_2025/DA5402/DA5402_AI_Application/Model/dataset/deliveries.csv')\n",
    "df1.info() "
   ]
  },
  {
   "cell_type": "code",
   "execution_count": 3,
   "metadata": {},
   "outputs": [
    {
     "data": {
      "application/vnd.microsoft.datawrangler.viewer.v0+json": {
       "columns": [
        {
         "name": "index",
         "rawType": "int64",
         "type": "integer"
        },
        {
         "name": "match_id",
         "rawType": "int64",
         "type": "integer"
        },
        {
         "name": "inning",
         "rawType": "int64",
         "type": "integer"
        },
        {
         "name": "batting_team",
         "rawType": "object",
         "type": "string"
        },
        {
         "name": "bowling_team",
         "rawType": "object",
         "type": "string"
        },
        {
         "name": "over",
         "rawType": "int64",
         "type": "integer"
        },
        {
         "name": "ball",
         "rawType": "int64",
         "type": "integer"
        },
        {
         "name": "batter",
         "rawType": "object",
         "type": "string"
        },
        {
         "name": "bowler",
         "rawType": "object",
         "type": "string"
        },
        {
         "name": "non_striker",
         "rawType": "object",
         "type": "string"
        },
        {
         "name": "batsman_runs",
         "rawType": "int64",
         "type": "integer"
        },
        {
         "name": "extra_runs",
         "rawType": "int64",
         "type": "integer"
        },
        {
         "name": "total_runs",
         "rawType": "int64",
         "type": "integer"
        },
        {
         "name": "extras_type",
         "rawType": "object",
         "type": "unknown"
        },
        {
         "name": "is_wicket",
         "rawType": "int64",
         "type": "integer"
        },
        {
         "name": "player_dismissed",
         "rawType": "object",
         "type": "unknown"
        },
        {
         "name": "dismissal_kind",
         "rawType": "object",
         "type": "unknown"
        },
        {
         "name": "fielder",
         "rawType": "object",
         "type": "unknown"
        }
       ],
       "conversionMethod": "pd.DataFrame",
       "ref": "6f01b51d-1abd-48bd-8928-2c8a8538271a",
       "rows": [
        [
         "0",
         "335982",
         "1",
         "Kolkata Knight Riders",
         "Royal Challengers Bangalore",
         "0",
         "1",
         "SC Ganguly",
         "P Kumar",
         "BB McCullum",
         "0",
         "1",
         "1",
         "legbyes",
         "0",
         null,
         null,
         null
        ],
        [
         "1",
         "335982",
         "1",
         "Kolkata Knight Riders",
         "Royal Challengers Bangalore",
         "0",
         "2",
         "BB McCullum",
         "P Kumar",
         "SC Ganguly",
         "0",
         "0",
         "0",
         null,
         "0",
         null,
         null,
         null
        ],
        [
         "2",
         "335982",
         "1",
         "Kolkata Knight Riders",
         "Royal Challengers Bangalore",
         "0",
         "3",
         "BB McCullum",
         "P Kumar",
         "SC Ganguly",
         "0",
         "1",
         "1",
         "wides",
         "0",
         null,
         null,
         null
        ],
        [
         "3",
         "335982",
         "1",
         "Kolkata Knight Riders",
         "Royal Challengers Bangalore",
         "0",
         "4",
         "BB McCullum",
         "P Kumar",
         "SC Ganguly",
         "0",
         "0",
         "0",
         null,
         "0",
         null,
         null,
         null
        ],
        [
         "4",
         "335982",
         "1",
         "Kolkata Knight Riders",
         "Royal Challengers Bangalore",
         "0",
         "5",
         "BB McCullum",
         "P Kumar",
         "SC Ganguly",
         "0",
         "0",
         "0",
         null,
         "0",
         null,
         null,
         null
        ]
       ],
       "shape": {
        "columns": 17,
        "rows": 5
       }
      },
      "text/html": [
       "<div>\n",
       "<style scoped>\n",
       "    .dataframe tbody tr th:only-of-type {\n",
       "        vertical-align: middle;\n",
       "    }\n",
       "\n",
       "    .dataframe tbody tr th {\n",
       "        vertical-align: top;\n",
       "    }\n",
       "\n",
       "    .dataframe thead th {\n",
       "        text-align: right;\n",
       "    }\n",
       "</style>\n",
       "<table border=\"1\" class=\"dataframe\">\n",
       "  <thead>\n",
       "    <tr style=\"text-align: right;\">\n",
       "      <th></th>\n",
       "      <th>match_id</th>\n",
       "      <th>inning</th>\n",
       "      <th>batting_team</th>\n",
       "      <th>bowling_team</th>\n",
       "      <th>over</th>\n",
       "      <th>ball</th>\n",
       "      <th>batter</th>\n",
       "      <th>bowler</th>\n",
       "      <th>non_striker</th>\n",
       "      <th>batsman_runs</th>\n",
       "      <th>extra_runs</th>\n",
       "      <th>total_runs</th>\n",
       "      <th>extras_type</th>\n",
       "      <th>is_wicket</th>\n",
       "      <th>player_dismissed</th>\n",
       "      <th>dismissal_kind</th>\n",
       "      <th>fielder</th>\n",
       "    </tr>\n",
       "  </thead>\n",
       "  <tbody>\n",
       "    <tr>\n",
       "      <th>0</th>\n",
       "      <td>335982</td>\n",
       "      <td>1</td>\n",
       "      <td>Kolkata Knight Riders</td>\n",
       "      <td>Royal Challengers Bangalore</td>\n",
       "      <td>0</td>\n",
       "      <td>1</td>\n",
       "      <td>SC Ganguly</td>\n",
       "      <td>P Kumar</td>\n",
       "      <td>BB McCullum</td>\n",
       "      <td>0</td>\n",
       "      <td>1</td>\n",
       "      <td>1</td>\n",
       "      <td>legbyes</td>\n",
       "      <td>0</td>\n",
       "      <td>NaN</td>\n",
       "      <td>NaN</td>\n",
       "      <td>NaN</td>\n",
       "    </tr>\n",
       "    <tr>\n",
       "      <th>1</th>\n",
       "      <td>335982</td>\n",
       "      <td>1</td>\n",
       "      <td>Kolkata Knight Riders</td>\n",
       "      <td>Royal Challengers Bangalore</td>\n",
       "      <td>0</td>\n",
       "      <td>2</td>\n",
       "      <td>BB McCullum</td>\n",
       "      <td>P Kumar</td>\n",
       "      <td>SC Ganguly</td>\n",
       "      <td>0</td>\n",
       "      <td>0</td>\n",
       "      <td>0</td>\n",
       "      <td>NaN</td>\n",
       "      <td>0</td>\n",
       "      <td>NaN</td>\n",
       "      <td>NaN</td>\n",
       "      <td>NaN</td>\n",
       "    </tr>\n",
       "    <tr>\n",
       "      <th>2</th>\n",
       "      <td>335982</td>\n",
       "      <td>1</td>\n",
       "      <td>Kolkata Knight Riders</td>\n",
       "      <td>Royal Challengers Bangalore</td>\n",
       "      <td>0</td>\n",
       "      <td>3</td>\n",
       "      <td>BB McCullum</td>\n",
       "      <td>P Kumar</td>\n",
       "      <td>SC Ganguly</td>\n",
       "      <td>0</td>\n",
       "      <td>1</td>\n",
       "      <td>1</td>\n",
       "      <td>wides</td>\n",
       "      <td>0</td>\n",
       "      <td>NaN</td>\n",
       "      <td>NaN</td>\n",
       "      <td>NaN</td>\n",
       "    </tr>\n",
       "    <tr>\n",
       "      <th>3</th>\n",
       "      <td>335982</td>\n",
       "      <td>1</td>\n",
       "      <td>Kolkata Knight Riders</td>\n",
       "      <td>Royal Challengers Bangalore</td>\n",
       "      <td>0</td>\n",
       "      <td>4</td>\n",
       "      <td>BB McCullum</td>\n",
       "      <td>P Kumar</td>\n",
       "      <td>SC Ganguly</td>\n",
       "      <td>0</td>\n",
       "      <td>0</td>\n",
       "      <td>0</td>\n",
       "      <td>NaN</td>\n",
       "      <td>0</td>\n",
       "      <td>NaN</td>\n",
       "      <td>NaN</td>\n",
       "      <td>NaN</td>\n",
       "    </tr>\n",
       "    <tr>\n",
       "      <th>4</th>\n",
       "      <td>335982</td>\n",
       "      <td>1</td>\n",
       "      <td>Kolkata Knight Riders</td>\n",
       "      <td>Royal Challengers Bangalore</td>\n",
       "      <td>0</td>\n",
       "      <td>5</td>\n",
       "      <td>BB McCullum</td>\n",
       "      <td>P Kumar</td>\n",
       "      <td>SC Ganguly</td>\n",
       "      <td>0</td>\n",
       "      <td>0</td>\n",
       "      <td>0</td>\n",
       "      <td>NaN</td>\n",
       "      <td>0</td>\n",
       "      <td>NaN</td>\n",
       "      <td>NaN</td>\n",
       "      <td>NaN</td>\n",
       "    </tr>\n",
       "  </tbody>\n",
       "</table>\n",
       "</div>"
      ],
      "text/plain": [
       "   match_id  inning           batting_team                 bowling_team  over  \\\n",
       "0    335982       1  Kolkata Knight Riders  Royal Challengers Bangalore     0   \n",
       "1    335982       1  Kolkata Knight Riders  Royal Challengers Bangalore     0   \n",
       "2    335982       1  Kolkata Knight Riders  Royal Challengers Bangalore     0   \n",
       "3    335982       1  Kolkata Knight Riders  Royal Challengers Bangalore     0   \n",
       "4    335982       1  Kolkata Knight Riders  Royal Challengers Bangalore     0   \n",
       "\n",
       "   ball       batter   bowler  non_striker  batsman_runs  extra_runs  \\\n",
       "0     1   SC Ganguly  P Kumar  BB McCullum             0           1   \n",
       "1     2  BB McCullum  P Kumar   SC Ganguly             0           0   \n",
       "2     3  BB McCullum  P Kumar   SC Ganguly             0           1   \n",
       "3     4  BB McCullum  P Kumar   SC Ganguly             0           0   \n",
       "4     5  BB McCullum  P Kumar   SC Ganguly             0           0   \n",
       "\n",
       "   total_runs extras_type  is_wicket player_dismissed dismissal_kind fielder  \n",
       "0           1     legbyes          0              NaN            NaN     NaN  \n",
       "1           0         NaN          0              NaN            NaN     NaN  \n",
       "2           1       wides          0              NaN            NaN     NaN  \n",
       "3           0         NaN          0              NaN            NaN     NaN  \n",
       "4           0         NaN          0              NaN            NaN     NaN  "
      ]
     },
     "execution_count": 3,
     "metadata": {},
     "output_type": "execute_result"
    }
   ],
   "source": [
    "df1.head() "
   ]
  },
  {
   "cell_type": "code",
   "execution_count": 4,
   "metadata": {},
   "outputs": [
    {
     "name": "stdout",
     "output_type": "stream",
     "text": [
      "Number of Batting teams:19\n"
     ]
    },
    {
     "data": {
      "text/plain": [
       "array(['Chennai Super Kings', 'Deccan Chargers', 'Delhi Capitals',\n",
       "       'Delhi Daredevils', 'Gujarat Lions', 'Gujarat Titans',\n",
       "       'Kings XI Punjab', 'Kochi Tuskers Kerala', 'Kolkata Knight Riders',\n",
       "       'Lucknow Super Giants', 'Mumbai Indians', 'Pune Warriors',\n",
       "       'Punjab Kings', 'Rajasthan Royals', 'Rising Pune Supergiant',\n",
       "       'Rising Pune Supergiants', 'Royal Challengers Bangalore',\n",
       "       'Royal Challengers Bengaluru', 'Sunrisers Hyderabad'], dtype=object)"
      ]
     },
     "execution_count": 4,
     "metadata": {},
     "output_type": "execute_result"
    }
   ],
   "source": [
    "print(f'Number of Batting teams:{len(np.unique(np.array(df1['batting_team'])))}')\n",
    "np.unique(np.array(df1['batting_team']))"
   ]
  },
  {
   "cell_type": "code",
   "execution_count": 5,
   "metadata": {},
   "outputs": [
    {
     "name": "stdout",
     "output_type": "stream",
     "text": [
      "Number of Bowling teams:19\n"
     ]
    },
    {
     "data": {
      "text/plain": [
       "array(['Chennai Super Kings', 'Deccan Chargers', 'Delhi Capitals',\n",
       "       'Delhi Daredevils', 'Gujarat Lions', 'Gujarat Titans',\n",
       "       'Kings XI Punjab', 'Kochi Tuskers Kerala', 'Kolkata Knight Riders',\n",
       "       'Lucknow Super Giants', 'Mumbai Indians', 'Pune Warriors',\n",
       "       'Punjab Kings', 'Rajasthan Royals', 'Rising Pune Supergiant',\n",
       "       'Rising Pune Supergiants', 'Royal Challengers Bangalore',\n",
       "       'Royal Challengers Bengaluru', 'Sunrisers Hyderabad'], dtype=object)"
      ]
     },
     "execution_count": 5,
     "metadata": {},
     "output_type": "execute_result"
    }
   ],
   "source": [
    "print(f'Number of Bowling teams:{len(np.unique(np.array(df1['bowling_team'])))}')\n",
    "np.unique(np.array(df1['bowling_team']))"
   ]
  },
  {
   "cell_type": "code",
   "execution_count": 6,
   "metadata": {},
   "outputs": [],
   "source": [
    "# Replace a team name in the specified column of a DataFrame.\n",
    "def replace_team_name(df: pd.DataFrame, old_name: str, new_name: str, column_name: str) -> pd.DataFrame:\n",
    "    df[column_name] = df[column_name].replace(old_name, new_name)\n",
    "    return df\n",
    "\n",
    "# Drop the row with team name in the specified column of a DataFrame.\n",
    "def drop_team_name(df: pd.DataFrame, team_to_drop: str, column_name: str) -> pd.DataFrame:\n",
    "    return df[df[column_name] != team_to_drop]"
   ]
  },
  {
   "cell_type": "code",
   "execution_count": 7,
   "metadata": {},
   "outputs": [],
   "source": [
    "df1 = replace_team_name(df1, old_name = 'Royal Challengers Bangalore', new_name = 'Royal Challengers Bengaluru', column_name = 'batting_team')\n",
    "df1 = replace_team_name(df1, old_name = 'Deccan Chargers', new_name = 'Sunrisers Hyderabad', column_name = 'batting_team')\n",
    "df1 = replace_team_name(df1, old_name = 'Gujarat Lions', new_name = 'Gujarat Titans', column_name = 'batting_team')\n",
    "df1 = replace_team_name(df1, old_name = 'Kings XI Punjab', new_name = 'Punjab Kings', column_name = 'batting_team')\n",
    "df1 = replace_team_name(df1, old_name = 'Delhi Daredevils', new_name = 'Delhi Capitals', column_name = 'batting_team')\n",
    "\n",
    "df1 = replace_team_name(df1, old_name = 'Royal Challengers Bangalore', new_name = 'Royal Challengers Bengaluru', column_name = 'bowling_team')\n",
    "df1 = replace_team_name(df1, old_name = 'Deccan Chargers', new_name = 'Sunrisers Hyderabad', column_name = 'bowling_team')\n",
    "df1 = replace_team_name(df1, old_name = 'Gujarat Lions', new_name = 'Gujarat Titans', column_name = 'bowling_team')\n",
    "df1 = replace_team_name(df1, old_name = 'Kings XI Punjab', new_name = 'Punjab Kings', column_name = 'bowling_team')\n",
    "df1 = replace_team_name(df1, old_name = 'Delhi Daredevils', new_name = 'Delhi Capitals', column_name = 'bowling_team')\n"
   ]
  },
  {
   "cell_type": "code",
   "execution_count": 8,
   "metadata": {},
   "outputs": [],
   "source": [
    "df1 = drop_team_name(df1, team_to_drop = 'Kochi Tuskers Kerala', column_name = 'bowling_team') \n",
    "df1 = drop_team_name(df1, team_to_drop = 'Kochi Tuskers Kerala', column_name = 'batting_team') \n",
    "\n",
    "df1 = drop_team_name(df1, team_to_drop = 'Pune Warriors', column_name = 'bowling_team') \n",
    "df1 = drop_team_name(df1, team_to_drop = 'Pune Warriors', column_name = 'batting_team') \n",
    "\n",
    "df1 = drop_team_name(df1, team_to_drop = 'Rising Pune Supergiants', column_name = 'bowling_team') \n",
    "df1 = drop_team_name(df1, team_to_drop = 'Rising Pune Supergiants', column_name = 'batting_team') \n",
    "\n",
    "df1 = drop_team_name(df1, team_to_drop = 'Rising Pune Supergiant', column_name = 'bowling_team') \n",
    "df1 = drop_team_name(df1, team_to_drop = 'Rising Pune Supergiant', column_name = 'batting_team') "
   ]
  },
  {
   "cell_type": "code",
   "execution_count": 9,
   "metadata": {},
   "outputs": [
    {
     "name": "stdout",
     "output_type": "stream",
     "text": [
      "Number of Batting teams:10\n"
     ]
    },
    {
     "data": {
      "text/plain": [
       "array(['Chennai Super Kings', 'Delhi Capitals', 'Gujarat Titans',\n",
       "       'Kolkata Knight Riders', 'Lucknow Super Giants', 'Mumbai Indians',\n",
       "       'Punjab Kings', 'Rajasthan Royals', 'Royal Challengers Bengaluru',\n",
       "       'Sunrisers Hyderabad'], dtype=object)"
      ]
     },
     "execution_count": 9,
     "metadata": {},
     "output_type": "execute_result"
    }
   ],
   "source": [
    "print(f'Number of Batting teams:{len(np.unique(np.array(df1['batting_team'])))}')\n",
    "np.unique(np.array(df1['batting_team']))"
   ]
  },
  {
   "cell_type": "code",
   "execution_count": 10,
   "metadata": {},
   "outputs": [
    {
     "name": "stdout",
     "output_type": "stream",
     "text": [
      "Number of Bowling teams:10\n"
     ]
    },
    {
     "data": {
      "text/plain": [
       "array(['Chennai Super Kings', 'Delhi Capitals', 'Gujarat Titans',\n",
       "       'Kolkata Knight Riders', 'Lucknow Super Giants', 'Mumbai Indians',\n",
       "       'Punjab Kings', 'Rajasthan Royals', 'Royal Challengers Bengaluru',\n",
       "       'Sunrisers Hyderabad'], dtype=object)"
      ]
     },
     "execution_count": 10,
     "metadata": {},
     "output_type": "execute_result"
    }
   ],
   "source": [
    "print(f'Number of Bowling teams:{len(np.unique(np.array(df1['bowling_team'])))}')\n",
    "np.unique(np.array(df1['bowling_team']))"
   ]
  },
  {
   "cell_type": "code",
   "execution_count": 11,
   "metadata": {},
   "outputs": [
    {
     "data": {
      "application/vnd.microsoft.datawrangler.viewer.v0+json": {
       "columns": [
        {
         "name": "index",
         "rawType": "int64",
         "type": "integer"
        },
        {
         "name": "match_id",
         "rawType": "int64",
         "type": "integer"
        },
        {
         "name": "inning",
         "rawType": "int64",
         "type": "integer"
        },
        {
         "name": "batting_team",
         "rawType": "object",
         "type": "string"
        },
        {
         "name": "bowling_team",
         "rawType": "object",
         "type": "string"
        },
        {
         "name": "over",
         "rawType": "int64",
         "type": "integer"
        },
        {
         "name": "ball",
         "rawType": "int64",
         "type": "integer"
        },
        {
         "name": "batter",
         "rawType": "object",
         "type": "string"
        },
        {
         "name": "bowler",
         "rawType": "object",
         "type": "string"
        },
        {
         "name": "non_striker",
         "rawType": "object",
         "type": "string"
        },
        {
         "name": "batsman_runs",
         "rawType": "int64",
         "type": "integer"
        },
        {
         "name": "extra_runs",
         "rawType": "int64",
         "type": "integer"
        },
        {
         "name": "total_runs",
         "rawType": "int64",
         "type": "integer"
        },
        {
         "name": "extras_type",
         "rawType": "object",
         "type": "unknown"
        },
        {
         "name": "is_wicket",
         "rawType": "int64",
         "type": "integer"
        },
        {
         "name": "player_dismissed",
         "rawType": "object",
         "type": "unknown"
        },
        {
         "name": "dismissal_kind",
         "rawType": "object",
         "type": "unknown"
        },
        {
         "name": "fielder",
         "rawType": "object",
         "type": "unknown"
        }
       ],
       "conversionMethod": "pd.DataFrame",
       "ref": "b5b50deb-e112-4e46-99b8-cd3f79e4f905",
       "rows": [
        [
         "0",
         "335982",
         "1",
         "Kolkata Knight Riders",
         "Royal Challengers Bengaluru",
         "0",
         "1",
         "SC Ganguly",
         "P Kumar",
         "BB McCullum",
         "0",
         "1",
         "1",
         "legbyes",
         "0",
         null,
         null,
         null
        ],
        [
         "1",
         "335982",
         "1",
         "Kolkata Knight Riders",
         "Royal Challengers Bengaluru",
         "0",
         "2",
         "BB McCullum",
         "P Kumar",
         "SC Ganguly",
         "0",
         "0",
         "0",
         null,
         "0",
         null,
         null,
         null
        ],
        [
         "2",
         "335982",
         "1",
         "Kolkata Knight Riders",
         "Royal Challengers Bengaluru",
         "0",
         "3",
         "BB McCullum",
         "P Kumar",
         "SC Ganguly",
         "0",
         "1",
         "1",
         "wides",
         "0",
         null,
         null,
         null
        ],
        [
         "3",
         "335982",
         "1",
         "Kolkata Knight Riders",
         "Royal Challengers Bengaluru",
         "0",
         "4",
         "BB McCullum",
         "P Kumar",
         "SC Ganguly",
         "0",
         "0",
         "0",
         null,
         "0",
         null,
         null,
         null
        ],
        [
         "4",
         "335982",
         "1",
         "Kolkata Knight Riders",
         "Royal Challengers Bengaluru",
         "0",
         "5",
         "BB McCullum",
         "P Kumar",
         "SC Ganguly",
         "0",
         "0",
         "0",
         null,
         "0",
         null,
         null,
         null
        ]
       ],
       "shape": {
        "columns": 17,
        "rows": 5
       }
      },
      "text/html": [
       "<div>\n",
       "<style scoped>\n",
       "    .dataframe tbody tr th:only-of-type {\n",
       "        vertical-align: middle;\n",
       "    }\n",
       "\n",
       "    .dataframe tbody tr th {\n",
       "        vertical-align: top;\n",
       "    }\n",
       "\n",
       "    .dataframe thead th {\n",
       "        text-align: right;\n",
       "    }\n",
       "</style>\n",
       "<table border=\"1\" class=\"dataframe\">\n",
       "  <thead>\n",
       "    <tr style=\"text-align: right;\">\n",
       "      <th></th>\n",
       "      <th>match_id</th>\n",
       "      <th>inning</th>\n",
       "      <th>batting_team</th>\n",
       "      <th>bowling_team</th>\n",
       "      <th>over</th>\n",
       "      <th>ball</th>\n",
       "      <th>batter</th>\n",
       "      <th>bowler</th>\n",
       "      <th>non_striker</th>\n",
       "      <th>batsman_runs</th>\n",
       "      <th>extra_runs</th>\n",
       "      <th>total_runs</th>\n",
       "      <th>extras_type</th>\n",
       "      <th>is_wicket</th>\n",
       "      <th>player_dismissed</th>\n",
       "      <th>dismissal_kind</th>\n",
       "      <th>fielder</th>\n",
       "    </tr>\n",
       "  </thead>\n",
       "  <tbody>\n",
       "    <tr>\n",
       "      <th>0</th>\n",
       "      <td>335982</td>\n",
       "      <td>1</td>\n",
       "      <td>Kolkata Knight Riders</td>\n",
       "      <td>Royal Challengers Bengaluru</td>\n",
       "      <td>0</td>\n",
       "      <td>1</td>\n",
       "      <td>SC Ganguly</td>\n",
       "      <td>P Kumar</td>\n",
       "      <td>BB McCullum</td>\n",
       "      <td>0</td>\n",
       "      <td>1</td>\n",
       "      <td>1</td>\n",
       "      <td>legbyes</td>\n",
       "      <td>0</td>\n",
       "      <td>NaN</td>\n",
       "      <td>NaN</td>\n",
       "      <td>NaN</td>\n",
       "    </tr>\n",
       "    <tr>\n",
       "      <th>1</th>\n",
       "      <td>335982</td>\n",
       "      <td>1</td>\n",
       "      <td>Kolkata Knight Riders</td>\n",
       "      <td>Royal Challengers Bengaluru</td>\n",
       "      <td>0</td>\n",
       "      <td>2</td>\n",
       "      <td>BB McCullum</td>\n",
       "      <td>P Kumar</td>\n",
       "      <td>SC Ganguly</td>\n",
       "      <td>0</td>\n",
       "      <td>0</td>\n",
       "      <td>0</td>\n",
       "      <td>NaN</td>\n",
       "      <td>0</td>\n",
       "      <td>NaN</td>\n",
       "      <td>NaN</td>\n",
       "      <td>NaN</td>\n",
       "    </tr>\n",
       "    <tr>\n",
       "      <th>2</th>\n",
       "      <td>335982</td>\n",
       "      <td>1</td>\n",
       "      <td>Kolkata Knight Riders</td>\n",
       "      <td>Royal Challengers Bengaluru</td>\n",
       "      <td>0</td>\n",
       "      <td>3</td>\n",
       "      <td>BB McCullum</td>\n",
       "      <td>P Kumar</td>\n",
       "      <td>SC Ganguly</td>\n",
       "      <td>0</td>\n",
       "      <td>1</td>\n",
       "      <td>1</td>\n",
       "      <td>wides</td>\n",
       "      <td>0</td>\n",
       "      <td>NaN</td>\n",
       "      <td>NaN</td>\n",
       "      <td>NaN</td>\n",
       "    </tr>\n",
       "    <tr>\n",
       "      <th>3</th>\n",
       "      <td>335982</td>\n",
       "      <td>1</td>\n",
       "      <td>Kolkata Knight Riders</td>\n",
       "      <td>Royal Challengers Bengaluru</td>\n",
       "      <td>0</td>\n",
       "      <td>4</td>\n",
       "      <td>BB McCullum</td>\n",
       "      <td>P Kumar</td>\n",
       "      <td>SC Ganguly</td>\n",
       "      <td>0</td>\n",
       "      <td>0</td>\n",
       "      <td>0</td>\n",
       "      <td>NaN</td>\n",
       "      <td>0</td>\n",
       "      <td>NaN</td>\n",
       "      <td>NaN</td>\n",
       "      <td>NaN</td>\n",
       "    </tr>\n",
       "    <tr>\n",
       "      <th>4</th>\n",
       "      <td>335982</td>\n",
       "      <td>1</td>\n",
       "      <td>Kolkata Knight Riders</td>\n",
       "      <td>Royal Challengers Bengaluru</td>\n",
       "      <td>0</td>\n",
       "      <td>5</td>\n",
       "      <td>BB McCullum</td>\n",
       "      <td>P Kumar</td>\n",
       "      <td>SC Ganguly</td>\n",
       "      <td>0</td>\n",
       "      <td>0</td>\n",
       "      <td>0</td>\n",
       "      <td>NaN</td>\n",
       "      <td>0</td>\n",
       "      <td>NaN</td>\n",
       "      <td>NaN</td>\n",
       "      <td>NaN</td>\n",
       "    </tr>\n",
       "  </tbody>\n",
       "</table>\n",
       "</div>"
      ],
      "text/plain": [
       "   match_id  inning           batting_team                 bowling_team  over  \\\n",
       "0    335982       1  Kolkata Knight Riders  Royal Challengers Bengaluru     0   \n",
       "1    335982       1  Kolkata Knight Riders  Royal Challengers Bengaluru     0   \n",
       "2    335982       1  Kolkata Knight Riders  Royal Challengers Bengaluru     0   \n",
       "3    335982       1  Kolkata Knight Riders  Royal Challengers Bengaluru     0   \n",
       "4    335982       1  Kolkata Knight Riders  Royal Challengers Bengaluru     0   \n",
       "\n",
       "   ball       batter   bowler  non_striker  batsman_runs  extra_runs  \\\n",
       "0     1   SC Ganguly  P Kumar  BB McCullum             0           1   \n",
       "1     2  BB McCullum  P Kumar   SC Ganguly             0           0   \n",
       "2     3  BB McCullum  P Kumar   SC Ganguly             0           1   \n",
       "3     4  BB McCullum  P Kumar   SC Ganguly             0           0   \n",
       "4     5  BB McCullum  P Kumar   SC Ganguly             0           0   \n",
       "\n",
       "   total_runs extras_type  is_wicket player_dismissed dismissal_kind fielder  \n",
       "0           1     legbyes          0              NaN            NaN     NaN  \n",
       "1           0         NaN          0              NaN            NaN     NaN  \n",
       "2           1       wides          0              NaN            NaN     NaN  \n",
       "3           0         NaN          0              NaN            NaN     NaN  \n",
       "4           0         NaN          0              NaN            NaN     NaN  "
      ]
     },
     "execution_count": 11,
     "metadata": {},
     "output_type": "execute_result"
    }
   ],
   "source": [
    "df1.head()"
   ]
  },
  {
   "cell_type": "code",
   "execution_count": 16,
   "metadata": {},
   "outputs": [
    {
     "data": {
      "text/plain": [
       "array([0, 1, 2, 3, 4, 5, 6, 7])"
      ]
     },
     "execution_count": 16,
     "metadata": {},
     "output_type": "execute_result"
    }
   ],
   "source": [
    "# df1.drop(columns=['match_id', 'inning', 'batter', 'bowler', 'non_striker', 'batsman_runs', 'extra_runs', 'extras_type', 'is_wicket', 'player_dismissed', 'dismissal_kind', 'fielder'], axis = 1)\n",
    "np.unique(np.array(df1['total_runs']))"
   ]
  },
  {
   "cell_type": "markdown",
   "metadata": {},
   "source": [
    "## Dataframe: matches.csv"
   ]
  },
  {
   "cell_type": "code",
   "execution_count": null,
   "metadata": {},
   "outputs": [],
   "source": [
    "df2 = pd.read_csv('/Users/nandhakishorecs/Documents/IITM/Jan_2025/DA5402/DA5402_AI_Application/Model/dataset/matches.csv')\n",
    "df2.info() "
   ]
  },
  {
   "cell_type": "code",
   "execution_count": null,
   "metadata": {},
   "outputs": [],
   "source": [
    "df2.head()"
   ]
  },
  {
   "cell_type": "code",
   "execution_count": null,
   "metadata": {},
   "outputs": [],
   "source": [
    "print(f'Number of Batting teams:{len(np.unique(np.array(df2['team1'])))}')\n",
    "np.unique(np.array(df2['team1']))"
   ]
  },
  {
   "cell_type": "code",
   "execution_count": null,
   "metadata": {},
   "outputs": [],
   "source": [
    "print(f'Number of Bowling teams:{len(np.unique(np.array(df2['team2'])))}')\n",
    "np.unique(np.array(df2['team2']))"
   ]
  },
  {
   "cell_type": "code",
   "execution_count": null,
   "metadata": {},
   "outputs": [],
   "source": [
    "df2 = replace_team_name(df2, old_name = 'Royal Challengers Bangalore', new_name = 'Royal Challengers Bengaluru', column_name = 'team1')\n",
    "df2 = replace_team_name(df2, old_name = 'Deccan Chargers', new_name = 'Sunrisers Hyderabad', column_name = 'team1')\n",
    "df2 = replace_team_name(df2, old_name = 'Gujarat Lions', new_name = 'Gujarat Titans', column_name = 'team1')\n",
    "df2 = replace_team_name(df2, old_name = 'Kings XI Punjab', new_name = 'Punjab Kings', column_name = 'team1')\n",
    "df2 = replace_team_name(df2, old_name = 'Delhi Daredevils', new_name = 'Delhi Capitals', column_name = 'team1')\n",
    "\n",
    "df2 = replace_team_name(df2, old_name = 'Royal Challengers Bangalore', new_name = 'Royal Challengers Bengaluru', column_name = 'team2')\n",
    "df2 = replace_team_name(df2, old_name = 'Deccan Chargers', new_name = 'Sunrisers Hyderabad', column_name = 'team2')\n",
    "df2 = replace_team_name(df2, old_name = 'Gujarat Lions', new_name = 'Gujarat Titans', column_name = 'team2')\n",
    "df2 = replace_team_name(df2, old_name = 'Kings XI Punjab', new_name = 'Punjab Kings', column_name = 'team2')\n",
    "df2 = replace_team_name(df2, old_name = 'Delhi Daredevils', new_name = 'Delhi Capitals', column_name = 'team2')\n"
   ]
  },
  {
   "cell_type": "code",
   "execution_count": null,
   "metadata": {},
   "outputs": [],
   "source": [
    "df2 = drop_team_name(df2, team_to_drop = 'Kochi Tuskers Kerala', column_name = 'team1') \n",
    "df2 = drop_team_name(df2, team_to_drop = 'Kochi Tuskers Kerala', column_name = 'team2') \n",
    "\n",
    "df2 = drop_team_name(df2, team_to_drop = 'Pune Warriors', column_name = 'team1') \n",
    "df2 = drop_team_name(df2, team_to_drop = 'Pune Warriors', column_name = 'team2') \n",
    "\n",
    "df2 = drop_team_name(df2, team_to_drop = 'Rising Pune Supergiants', column_name = 'team1') \n",
    "df2 = drop_team_name(df2, team_to_drop = 'Rising Pune Supergiants', column_name = 'team2') \n",
    "\n",
    "df2 = drop_team_name(df2, team_to_drop = 'Rising Pune Supergiant', column_name = 'team1') \n",
    "df2 = drop_team_name(df2, team_to_drop = 'Rising Pune Supergiant', column_name = 'team2') "
   ]
  },
  {
   "cell_type": "code",
   "execution_count": null,
   "metadata": {},
   "outputs": [],
   "source": [
    "print(f'Number of Batting teams:{len(np.unique(np.array(df2['team1'])))}')\n",
    "np.unique(np.array(df2['team1']))"
   ]
  },
  {
   "cell_type": "code",
   "execution_count": null,
   "metadata": {},
   "outputs": [],
   "source": [
    "print(f'Number of Bowling teams:{len(np.unique(np.array(df2['team2'])))}')\n",
    "np.unique(np.array(df2['team2']))"
   ]
  },
  {
   "cell_type": "code",
   "execution_count": null,
   "metadata": {},
   "outputs": [],
   "source": []
  }
 ],
 "metadata": {
  "kernelspec": {
   "display_name": ".venv",
   "language": "python",
   "name": "python3"
  },
  "language_info": {
   "codemirror_mode": {
    "name": "ipython",
    "version": 3
   },
   "file_extension": ".py",
   "mimetype": "text/x-python",
   "name": "python",
   "nbconvert_exporter": "python",
   "pygments_lexer": "ipython3",
   "version": "3.13.2"
  }
 },
 "nbformat": 4,
 "nbformat_minor": 2
}
