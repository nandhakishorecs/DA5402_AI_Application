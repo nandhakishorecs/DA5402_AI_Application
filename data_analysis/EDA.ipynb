{
 "cells": [
  {
   "cell_type": "markdown",
   "id": "9d3324da",
   "metadata": {},
   "source": [
    "# Team name correction "
   ]
  },
  {
   "cell_type": "code",
   "execution_count": 1,
   "id": "512b0c58",
   "metadata": {},
   "outputs": [],
   "source": [
    "import pandas as pd\n",
    "\n",
    "def replace_team_names(csv_path, replacement_dict, output_path=None):\n",
    "    \"\"\"\n",
    "    Replace values in 'team1' and 'team2' columns based on a user-provided dictionary.\n",
    "\n",
    "    Args:\n",
    "        csv_path (str): Path to the input CSV file.\n",
    "        replacement_dict (dict): Dictionary where keys are old names and values are new names.\n",
    "        output_path (str, optional): Path to save the updated CSV. If None, overwrites the input CSV.\n",
    "    \"\"\"\n",
    "    # Read the CSV\n",
    "    df = pd.read_csv(csv_path)\n",
    "    \n",
    "    # Replace in both columns\n",
    "    for column in ['team1', 'team2', 'toss_winner']:\n",
    "        if column in df.columns:\n",
    "            df[column] = df[column].map(replacement_dict).fillna(df[column])\n",
    "        else:\n",
    "            raise ValueError(f\"Column '{column}' not found in CSV.\")\n",
    "    \n",
    "    # Save the updated CSV\n",
    "    if output_path is None:\n",
    "        output_path = csv_path  # overwrite\n",
    "    df.to_csv(output_path, index=False)\n",
    "    \n",
    "    print(f\"Replacement done! File saved at: {output_path}\")\n"
   ]
  },
  {
   "cell_type": "code",
   "execution_count": 2,
   "id": "ff89f0ad",
   "metadata": {},
   "outputs": [
    {
     "data": {
      "application/vnd.microsoft.datawrangler.viewer.v0+json": {
       "columns": [
        {
         "name": "index",
         "rawType": "int64",
         "type": "integer"
        },
        {
         "name": "match_id",
         "rawType": "int64",
         "type": "integer"
        },
        {
         "name": "inning",
         "rawType": "int64",
         "type": "integer"
        },
        {
         "name": "total_runs",
         "rawType": "float64",
         "type": "float"
        },
        {
         "name": "is_wicket",
         "rawType": "float64",
         "type": "float"
        },
        {
         "name": "over",
         "rawType": "float64",
         "type": "float"
        },
        {
         "name": "team1",
         "rawType": "object",
         "type": "string"
        },
        {
         "name": "team2",
         "rawType": "object",
         "type": "string"
        },
        {
         "name": "toss_winner",
         "rawType": "object",
         "type": "string"
        },
        {
         "name": "venue",
         "rawType": "object",
         "type": "string"
        },
        {
         "name": "batting_strength",
         "rawType": "float64",
         "type": "float"
        },
        {
         "name": "bowling_strength",
         "rawType": "float64",
         "type": "float"
        },
        {
         "name": "target_score",
         "rawType": "float64",
         "type": "float"
        }
       ],
       "conversionMethod": "pd.DataFrame",
       "ref": "5de7a774-b4e1-4990-8439-d19b3136e0e4",
       "rows": [
        [
         "0",
         "335982",
         "1",
         "1.7607014365291824",
         "-1.4725609154399386",
         "0.1617792231033859",
         "Royal Challengers Bengaluru",
         "Kolkata Knight Riders",
         "Royal Challengers Bengaluru",
         "M Chinnaswamy Stadium",
         "-0.2030525748774694",
         "0.3571833452741813",
         "1.7607014365291824"
        ],
        [
         "1",
         "335983",
         "1",
         "2.322100189505599",
         "-0.5268399756119427",
         "0.1617792231033859",
         "Punjab Kings",
         "Chennai Super Kings",
         "Chennai Super Kings",
         "Punjab Cricket Association Stadium, Mohali",
         "-0.5103952095001757",
         "1.2511680531036484",
         "2.322100189505599"
        ],
        [
         "2",
         "335984",
         "1",
         "-1.1398587871823047",
         "0.8917414341300509",
         "0.1617792231033859",
         "Delhi Capitals",
         "Rajasthan Royals",
         "Rajasthan Royals",
         "Feroz Shah Kotla",
         "-1.2265043781538911",
         "0.1237297130339653",
         "-1.1398587871823047"
        ],
        [
         "3",
         "335985",
         "1",
         "-0.0170612812294709",
         "0.4188809642160531",
         "0.1617792231033859",
         "Mumbai Indians",
         "Royal Challengers Bengaluru",
         "Mumbai Indians",
         "Wankhede Stadium",
         "0.8387790546306845",
         "-0.2382810932096473",
         "-0.0170612812294709"
        ],
        [
         "4",
         "335986",
         "1",
         "-1.7324463597685225",
         "1.837462373958047",
         "-0.7855376180635095",
         "Kolkata Knight Riders",
         "Sunrisers Hyderabad",
         "Sunrisers Hyderabad",
         "Eden Gardens",
         "0.3846410581729466",
         "-1.7303243454381474",
         "-1.7324463597685225"
        ]
       ],
       "shape": {
        "columns": 12,
        "rows": 5
       }
      },
      "text/html": [
       "<div>\n",
       "<style scoped>\n",
       "    .dataframe tbody tr th:only-of-type {\n",
       "        vertical-align: middle;\n",
       "    }\n",
       "\n",
       "    .dataframe tbody tr th {\n",
       "        vertical-align: top;\n",
       "    }\n",
       "\n",
       "    .dataframe thead th {\n",
       "        text-align: right;\n",
       "    }\n",
       "</style>\n",
       "<table border=\"1\" class=\"dataframe\">\n",
       "  <thead>\n",
       "    <tr style=\"text-align: right;\">\n",
       "      <th></th>\n",
       "      <th>match_id</th>\n",
       "      <th>inning</th>\n",
       "      <th>total_runs</th>\n",
       "      <th>is_wicket</th>\n",
       "      <th>over</th>\n",
       "      <th>team1</th>\n",
       "      <th>team2</th>\n",
       "      <th>toss_winner</th>\n",
       "      <th>venue</th>\n",
       "      <th>batting_strength</th>\n",
       "      <th>bowling_strength</th>\n",
       "      <th>target_score</th>\n",
       "    </tr>\n",
       "  </thead>\n",
       "  <tbody>\n",
       "    <tr>\n",
       "      <th>0</th>\n",
       "      <td>335982</td>\n",
       "      <td>1</td>\n",
       "      <td>1.760701</td>\n",
       "      <td>-1.472561</td>\n",
       "      <td>0.161779</td>\n",
       "      <td>Royal Challengers Bengaluru</td>\n",
       "      <td>Kolkata Knight Riders</td>\n",
       "      <td>Royal Challengers Bengaluru</td>\n",
       "      <td>M Chinnaswamy Stadium</td>\n",
       "      <td>-0.203053</td>\n",
       "      <td>0.357183</td>\n",
       "      <td>1.760701</td>\n",
       "    </tr>\n",
       "    <tr>\n",
       "      <th>1</th>\n",
       "      <td>335983</td>\n",
       "      <td>1</td>\n",
       "      <td>2.322100</td>\n",
       "      <td>-0.526840</td>\n",
       "      <td>0.161779</td>\n",
       "      <td>Punjab Kings</td>\n",
       "      <td>Chennai Super Kings</td>\n",
       "      <td>Chennai Super Kings</td>\n",
       "      <td>Punjab Cricket Association Stadium, Mohali</td>\n",
       "      <td>-0.510395</td>\n",
       "      <td>1.251168</td>\n",
       "      <td>2.322100</td>\n",
       "    </tr>\n",
       "    <tr>\n",
       "      <th>2</th>\n",
       "      <td>335984</td>\n",
       "      <td>1</td>\n",
       "      <td>-1.139859</td>\n",
       "      <td>0.891741</td>\n",
       "      <td>0.161779</td>\n",
       "      <td>Delhi Capitals</td>\n",
       "      <td>Rajasthan Royals</td>\n",
       "      <td>Rajasthan Royals</td>\n",
       "      <td>Feroz Shah Kotla</td>\n",
       "      <td>-1.226504</td>\n",
       "      <td>0.123730</td>\n",
       "      <td>-1.139859</td>\n",
       "    </tr>\n",
       "    <tr>\n",
       "      <th>3</th>\n",
       "      <td>335985</td>\n",
       "      <td>1</td>\n",
       "      <td>-0.017061</td>\n",
       "      <td>0.418881</td>\n",
       "      <td>0.161779</td>\n",
       "      <td>Mumbai Indians</td>\n",
       "      <td>Royal Challengers Bengaluru</td>\n",
       "      <td>Mumbai Indians</td>\n",
       "      <td>Wankhede Stadium</td>\n",
       "      <td>0.838779</td>\n",
       "      <td>-0.238281</td>\n",
       "      <td>-0.017061</td>\n",
       "    </tr>\n",
       "    <tr>\n",
       "      <th>4</th>\n",
       "      <td>335986</td>\n",
       "      <td>1</td>\n",
       "      <td>-1.732446</td>\n",
       "      <td>1.837462</td>\n",
       "      <td>-0.785538</td>\n",
       "      <td>Kolkata Knight Riders</td>\n",
       "      <td>Sunrisers Hyderabad</td>\n",
       "      <td>Sunrisers Hyderabad</td>\n",
       "      <td>Eden Gardens</td>\n",
       "      <td>0.384641</td>\n",
       "      <td>-1.730324</td>\n",
       "      <td>-1.732446</td>\n",
       "    </tr>\n",
       "  </tbody>\n",
       "</table>\n",
       "</div>"
      ],
      "text/plain": [
       "   match_id  inning  total_runs  is_wicket      over  \\\n",
       "0    335982       1    1.760701  -1.472561  0.161779   \n",
       "1    335983       1    2.322100  -0.526840  0.161779   \n",
       "2    335984       1   -1.139859   0.891741  0.161779   \n",
       "3    335985       1   -0.017061   0.418881  0.161779   \n",
       "4    335986       1   -1.732446   1.837462 -0.785538   \n",
       "\n",
       "                         team1                        team2  \\\n",
       "0  Royal Challengers Bengaluru        Kolkata Knight Riders   \n",
       "1                 Punjab Kings          Chennai Super Kings   \n",
       "2               Delhi Capitals             Rajasthan Royals   \n",
       "3               Mumbai Indians  Royal Challengers Bengaluru   \n",
       "4        Kolkata Knight Riders          Sunrisers Hyderabad   \n",
       "\n",
       "                   toss_winner                                       venue  \\\n",
       "0  Royal Challengers Bengaluru                       M Chinnaswamy Stadium   \n",
       "1          Chennai Super Kings  Punjab Cricket Association Stadium, Mohali   \n",
       "2             Rajasthan Royals                            Feroz Shah Kotla   \n",
       "3               Mumbai Indians                            Wankhede Stadium   \n",
       "4          Sunrisers Hyderabad                                Eden Gardens   \n",
       "\n",
       "   batting_strength  bowling_strength  target_score  \n",
       "0         -0.203053          0.357183      1.760701  \n",
       "1         -0.510395          1.251168      2.322100  \n",
       "2         -1.226504          0.123730     -1.139859  \n",
       "3          0.838779         -0.238281     -0.017061  \n",
       "4          0.384641         -1.730324     -1.732446  "
      ]
     },
     "execution_count": 2,
     "metadata": {},
     "output_type": "execute_result"
    }
   ],
   "source": [
    "csv_path = '/Users/nandhakishorecs/Documents/IITM/Jan_2025/DA5402/DA5402_AI_Application/data/processed_dataset.csv'\n",
    "\n",
    "df = pd.read_csv(csv_path)\n",
    "df.head() "
   ]
  },
  {
   "cell_type": "code",
   "execution_count": 3,
   "id": "8dd9ecc8",
   "metadata": {},
   "outputs": [
    {
     "data": {
      "text/plain": [
       "array(['Chennai Super Kings', 'Delhi Capitals', 'Gujarat Lions',\n",
       "       'Gujarat Titans', 'Kochi Tuskers Kerala', 'Kolkata Knight Riders',\n",
       "       'Lucknow Super Giants', 'Mumbai Indians', 'Pune Warriors',\n",
       "       'Punjab Kings', 'Rajasthan Royals', 'Rising Pune Supergiant',\n",
       "       'Rising Pune Supergiants', 'Royal Challengers Bengaluru',\n",
       "       'Sunrisers Hyderabad'], dtype=object)"
      ]
     },
     "execution_count": 3,
     "metadata": {},
     "output_type": "execute_result"
    }
   ],
   "source": [
    "import numpy as np \n",
    "np.unique(np.array(df['team1']))"
   ]
  },
  {
   "cell_type": "code",
   "execution_count": 4,
   "id": "b9098b8d",
   "metadata": {},
   "outputs": [
    {
     "name": "stdout",
     "output_type": "stream",
     "text": [
      "Replacement done! File saved at: /Users/nandhakishorecs/Documents/IITM/Jan_2025/DA5402/DA5402_AI_Application/data/processed_dataset.csv\n"
     ]
    }
   ],
   "source": [
    "replacement = {\n",
    "    'Royal Challengers Bangalore': 'Royal Challengers Bengaluru',\n",
    "    'Kings XI Punjab': 'Punjab Kings',\n",
    "    'Deccan Chargers': 'Sunrisers Hyderabad', \n",
    "    'Delhi Daredevils' : 'Delhi Capitals',\n",
    "    'Gujarat Titans' : 'Gujarat Lions'\n",
    "}\n",
    "\n",
    "replace_team_names(csv_path, replacement)"
   ]
  },
  {
   "cell_type": "code",
   "execution_count": 5,
   "id": "810621ea",
   "metadata": {},
   "outputs": [],
   "source": [
    "import pandas as pd\n",
    "\n",
    "def drop_elements_in_column(csv_path, column_name, elements_to_drop, output_path=None):\n",
    "    # Read the CSV\n",
    "    df = pd.read_csv(csv_path)\n",
    "    \n",
    "    # Check if the column exists\n",
    "    if column_name not in df.columns:\n",
    "        raise ValueError(f\"Column '{column_name}' not found in the CSV.\")\n",
    "    \n",
    "    # Drop the rows where column has unwanted elements\n",
    "    df = df[~df[column_name].isin(elements_to_drop)]\n",
    "    \n",
    "    # Save the updated CSV\n",
    "    if output_path is None:\n",
    "        output_path = csv_path  # overwrite\n",
    "    df.to_csv(output_path, index=False)\n",
    "    \n",
    "    print(f\"Dropped elements {elements_to_drop} from column '{column_name}'. File saved at: {output_path}\")\n"
   ]
  },
  {
   "cell_type": "code",
   "execution_count": 6,
   "id": "3c80d036",
   "metadata": {},
   "outputs": [
    {
     "name": "stdout",
     "output_type": "stream",
     "text": [
      "Dropped elements ['Pune Warriors', 'Rising Pune Supergiants', 'Rising Pune Supergiant', 'Kochi Tuskers Kerala'] from column 'team1'. File saved at: /Users/nandhakishorecs/Documents/IITM/Jan_2025/DA5402/DA5402_AI_Application/data/processed_dataset.csv\n",
      "Dropped elements ['Pune Warriors', 'Rising Pune Supergiants', 'Rising Pune Supergiant', 'Kochi Tuskers Kerala'] from column 'team2'. File saved at: /Users/nandhakishorecs/Documents/IITM/Jan_2025/DA5402/DA5402_AI_Application/data/processed_dataset.csv\n",
      "Dropped elements ['Pune Warriors', 'Rising Pune Supergiants', 'Rising Pune Supergiant', 'Kochi Tuskers Kerala'] from column 'toss_winner'. File saved at: /Users/nandhakishorecs/Documents/IITM/Jan_2025/DA5402/DA5402_AI_Application/data/processed_dataset.csv\n"
     ]
    }
   ],
   "source": [
    "elements = [\n",
    "    'Pune Warriors', \n",
    "    'Rising Pune Supergiants', \n",
    "    'Rising Pune Supergiant', \n",
    "    'Kochi Tuskers Kerala'\n",
    "]\n",
    "drop_elements_in_column(csv_path, 'team1', elements)\n",
    "drop_elements_in_column(csv_path, 'team2', elements)\n",
    "drop_elements_in_column(csv_path, 'toss_winner', elements)\n"
   ]
  },
  {
   "cell_type": "code",
   "execution_count": 8,
   "id": "3c0852d5",
   "metadata": {},
   "outputs": [
    {
     "data": {
      "application/vnd.microsoft.datawrangler.viewer.v0+json": {
       "columns": [
        {
         "name": "index",
         "rawType": "int64",
         "type": "integer"
        },
        {
         "name": "match_id",
         "rawType": "int64",
         "type": "integer"
        },
        {
         "name": "inning",
         "rawType": "int64",
         "type": "integer"
        },
        {
         "name": "total_runs",
         "rawType": "float64",
         "type": "float"
        },
        {
         "name": "is_wicket",
         "rawType": "float64",
         "type": "float"
        },
        {
         "name": "over",
         "rawType": "float64",
         "type": "float"
        },
        {
         "name": "team1",
         "rawType": "object",
         "type": "string"
        },
        {
         "name": "team2",
         "rawType": "object",
         "type": "string"
        },
        {
         "name": "toss_winner",
         "rawType": "object",
         "type": "string"
        },
        {
         "name": "venue",
         "rawType": "object",
         "type": "string"
        },
        {
         "name": "batting_strength",
         "rawType": "float64",
         "type": "float"
        },
        {
         "name": "bowling_strength",
         "rawType": "float64",
         "type": "float"
        },
        {
         "name": "target_score",
         "rawType": "float64",
         "type": "float"
        }
       ],
       "conversionMethod": "pd.DataFrame",
       "ref": "30b8faac-9c43-46ad-bd30-0c6ed88a230a",
       "rows": [
        [
         "0",
         "335982",
         "1",
         "1.7607014365291824",
         "-1.4725609154399386",
         "0.1617792231033859",
         "Royal Challengers Bengaluru",
         "Kolkata Knight Riders",
         "Royal Challengers Bengaluru",
         "M Chinnaswamy Stadium",
         "-0.2030525748774694",
         "0.3571833452741813",
         "1.7607014365291824"
        ],
        [
         "1",
         "335983",
         "1",
         "2.322100189505599",
         "-0.5268399756119427",
         "0.1617792231033859",
         "Punjab Kings",
         "Chennai Super Kings",
         "Chennai Super Kings",
         "Punjab Cricket Association Stadium, Mohali",
         "-0.5103952095001757",
         "1.2511680531036484",
         "2.322100189505599"
        ],
        [
         "2",
         "335984",
         "1",
         "-1.1398587871823047",
         "0.8917414341300509",
         "0.1617792231033859",
         "Delhi Capitals",
         "Rajasthan Royals",
         "Rajasthan Royals",
         "Feroz Shah Kotla",
         "-1.2265043781538911",
         "0.1237297130339653",
         "-1.1398587871823047"
        ],
        [
         "3",
         "335985",
         "1",
         "-0.0170612812294709",
         "0.4188809642160531",
         "0.1617792231033859",
         "Mumbai Indians",
         "Royal Challengers Bengaluru",
         "Mumbai Indians",
         "Wankhede Stadium",
         "0.8387790546306845",
         "-0.2382810932096473",
         "-0.0170612812294709"
        ],
        [
         "4",
         "335986",
         "1",
         "-1.7324463597685225",
         "1.837462373958047",
         "-0.7855376180635095",
         "Kolkata Knight Riders",
         "Sunrisers Hyderabad",
         "Sunrisers Hyderabad",
         "Eden Gardens",
         "0.3846410581729466",
         "-1.7303243454381474",
         "-1.7324463597685225"
        ]
       ],
       "shape": {
        "columns": 12,
        "rows": 5
       }
      },
      "text/html": [
       "<div>\n",
       "<style scoped>\n",
       "    .dataframe tbody tr th:only-of-type {\n",
       "        vertical-align: middle;\n",
       "    }\n",
       "\n",
       "    .dataframe tbody tr th {\n",
       "        vertical-align: top;\n",
       "    }\n",
       "\n",
       "    .dataframe thead th {\n",
       "        text-align: right;\n",
       "    }\n",
       "</style>\n",
       "<table border=\"1\" class=\"dataframe\">\n",
       "  <thead>\n",
       "    <tr style=\"text-align: right;\">\n",
       "      <th></th>\n",
       "      <th>match_id</th>\n",
       "      <th>inning</th>\n",
       "      <th>total_runs</th>\n",
       "      <th>is_wicket</th>\n",
       "      <th>over</th>\n",
       "      <th>team1</th>\n",
       "      <th>team2</th>\n",
       "      <th>toss_winner</th>\n",
       "      <th>venue</th>\n",
       "      <th>batting_strength</th>\n",
       "      <th>bowling_strength</th>\n",
       "      <th>target_score</th>\n",
       "    </tr>\n",
       "  </thead>\n",
       "  <tbody>\n",
       "    <tr>\n",
       "      <th>0</th>\n",
       "      <td>335982</td>\n",
       "      <td>1</td>\n",
       "      <td>1.760701</td>\n",
       "      <td>-1.472561</td>\n",
       "      <td>0.161779</td>\n",
       "      <td>Royal Challengers Bengaluru</td>\n",
       "      <td>Kolkata Knight Riders</td>\n",
       "      <td>Royal Challengers Bengaluru</td>\n",
       "      <td>M Chinnaswamy Stadium</td>\n",
       "      <td>-0.203053</td>\n",
       "      <td>0.357183</td>\n",
       "      <td>1.760701</td>\n",
       "    </tr>\n",
       "    <tr>\n",
       "      <th>1</th>\n",
       "      <td>335983</td>\n",
       "      <td>1</td>\n",
       "      <td>2.322100</td>\n",
       "      <td>-0.526840</td>\n",
       "      <td>0.161779</td>\n",
       "      <td>Punjab Kings</td>\n",
       "      <td>Chennai Super Kings</td>\n",
       "      <td>Chennai Super Kings</td>\n",
       "      <td>Punjab Cricket Association Stadium, Mohali</td>\n",
       "      <td>-0.510395</td>\n",
       "      <td>1.251168</td>\n",
       "      <td>2.322100</td>\n",
       "    </tr>\n",
       "    <tr>\n",
       "      <th>2</th>\n",
       "      <td>335984</td>\n",
       "      <td>1</td>\n",
       "      <td>-1.139859</td>\n",
       "      <td>0.891741</td>\n",
       "      <td>0.161779</td>\n",
       "      <td>Delhi Capitals</td>\n",
       "      <td>Rajasthan Royals</td>\n",
       "      <td>Rajasthan Royals</td>\n",
       "      <td>Feroz Shah Kotla</td>\n",
       "      <td>-1.226504</td>\n",
       "      <td>0.123730</td>\n",
       "      <td>-1.139859</td>\n",
       "    </tr>\n",
       "    <tr>\n",
       "      <th>3</th>\n",
       "      <td>335985</td>\n",
       "      <td>1</td>\n",
       "      <td>-0.017061</td>\n",
       "      <td>0.418881</td>\n",
       "      <td>0.161779</td>\n",
       "      <td>Mumbai Indians</td>\n",
       "      <td>Royal Challengers Bengaluru</td>\n",
       "      <td>Mumbai Indians</td>\n",
       "      <td>Wankhede Stadium</td>\n",
       "      <td>0.838779</td>\n",
       "      <td>-0.238281</td>\n",
       "      <td>-0.017061</td>\n",
       "    </tr>\n",
       "    <tr>\n",
       "      <th>4</th>\n",
       "      <td>335986</td>\n",
       "      <td>1</td>\n",
       "      <td>-1.732446</td>\n",
       "      <td>1.837462</td>\n",
       "      <td>-0.785538</td>\n",
       "      <td>Kolkata Knight Riders</td>\n",
       "      <td>Sunrisers Hyderabad</td>\n",
       "      <td>Sunrisers Hyderabad</td>\n",
       "      <td>Eden Gardens</td>\n",
       "      <td>0.384641</td>\n",
       "      <td>-1.730324</td>\n",
       "      <td>-1.732446</td>\n",
       "    </tr>\n",
       "  </tbody>\n",
       "</table>\n",
       "</div>"
      ],
      "text/plain": [
       "   match_id  inning  total_runs  is_wicket      over  \\\n",
       "0    335982       1    1.760701  -1.472561  0.161779   \n",
       "1    335983       1    2.322100  -0.526840  0.161779   \n",
       "2    335984       1   -1.139859   0.891741  0.161779   \n",
       "3    335985       1   -0.017061   0.418881  0.161779   \n",
       "4    335986       1   -1.732446   1.837462 -0.785538   \n",
       "\n",
       "                         team1                        team2  \\\n",
       "0  Royal Challengers Bengaluru        Kolkata Knight Riders   \n",
       "1                 Punjab Kings          Chennai Super Kings   \n",
       "2               Delhi Capitals             Rajasthan Royals   \n",
       "3               Mumbai Indians  Royal Challengers Bengaluru   \n",
       "4        Kolkata Knight Riders          Sunrisers Hyderabad   \n",
       "\n",
       "                   toss_winner                                       venue  \\\n",
       "0  Royal Challengers Bengaluru                       M Chinnaswamy Stadium   \n",
       "1          Chennai Super Kings  Punjab Cricket Association Stadium, Mohali   \n",
       "2             Rajasthan Royals                            Feroz Shah Kotla   \n",
       "3               Mumbai Indians                            Wankhede Stadium   \n",
       "4          Sunrisers Hyderabad                                Eden Gardens   \n",
       "\n",
       "   batting_strength  bowling_strength  target_score  \n",
       "0         -0.203053          0.357183      1.760701  \n",
       "1         -0.510395          1.251168      2.322100  \n",
       "2         -1.226504          0.123730     -1.139859  \n",
       "3          0.838779         -0.238281     -0.017061  \n",
       "4          0.384641         -1.730324     -1.732446  "
      ]
     },
     "execution_count": 8,
     "metadata": {},
     "output_type": "execute_result"
    }
   ],
   "source": [
    "csv = pd.read_csv('/Users/nandhakishorecs/Documents/IITM/Jan_2025/DA5402/DA5402_AI_Application/data/processed_dataset.csv')\n",
    "csv.head()"
   ]
  },
  {
   "cell_type": "code",
   "execution_count": 12,
   "id": "87b81b74",
   "metadata": {},
   "outputs": [
    {
     "data": {
      "text/plain": [
       "array(['Arun Jaitley Stadium', 'Arun Jaitley Stadium, Delhi',\n",
       "       'Barabati Stadium', 'Barsapara Cricket Stadium, Guwahati',\n",
       "       'Bharat Ratna Shri Atal Bihari Vajpayee Ekana Cricket Stadium, Lucknow',\n",
       "       'Brabourne Stadium', 'Brabourne Stadium, Mumbai', 'Buffalo Park',\n",
       "       'De Beers Diamond Oval', 'Dr DY Patil Sports Academy',\n",
       "       'Dr DY Patil Sports Academy, Mumbai',\n",
       "       'Dr. Y.S. Rajasekhara Reddy ACA-VDCA Cricket Stadium',\n",
       "       'Dr. Y.S. Rajasekhara Reddy ACA-VDCA Cricket Stadium, Visakhapatnam',\n",
       "       'Dubai International Cricket Stadium', 'Eden Gardens',\n",
       "       'Eden Gardens, Kolkata', 'Feroz Shah Kotla', 'Green Park',\n",
       "       'Himachal Pradesh Cricket Association Stadium',\n",
       "       'Himachal Pradesh Cricket Association Stadium, Dharamsala',\n",
       "       'Holkar Cricket Stadium', 'JSCA International Stadium Complex',\n",
       "       'Kingsmead', 'M Chinnaswamy Stadium',\n",
       "       'M Chinnaswamy Stadium, Bengaluru', 'M.Chinnaswamy Stadium',\n",
       "       'MA Chidambaram Stadium', 'MA Chidambaram Stadium, Chepauk',\n",
       "       'MA Chidambaram Stadium, Chepauk, Chennai',\n",
       "       'Maharaja Yadavindra Singh International Cricket Stadium, Mullanpur',\n",
       "       'Maharashtra Cricket Association Stadium',\n",
       "       'Maharashtra Cricket Association Stadium, Pune',\n",
       "       'Narendra Modi Stadium, Ahmedabad', 'New Wanderers Stadium',\n",
       "       'Newlands', 'OUTsurance Oval',\n",
       "       'Punjab Cricket Association IS Bindra Stadium',\n",
       "       'Punjab Cricket Association IS Bindra Stadium, Mohali',\n",
       "       'Punjab Cricket Association IS Bindra Stadium, Mohali, Chandigarh',\n",
       "       'Punjab Cricket Association Stadium, Mohali',\n",
       "       'Rajiv Gandhi International Stadium',\n",
       "       'Rajiv Gandhi International Stadium, Uppal',\n",
       "       'Rajiv Gandhi International Stadium, Uppal, Hyderabad',\n",
       "       'Sardar Patel Stadium, Motera',\n",
       "       'Saurashtra Cricket Association Stadium', 'Sawai Mansingh Stadium',\n",
       "       'Sawai Mansingh Stadium, Jaipur',\n",
       "       'Shaheed Veer Narayan Singh International Stadium',\n",
       "       'Sharjah Cricket Stadium', 'Sheikh Zayed Stadium',\n",
       "       \"St George's Park\", 'Subrata Roy Sahara Stadium',\n",
       "       'SuperSport Park', 'Vidarbha Cricket Association Stadium, Jamtha',\n",
       "       'Wankhede Stadium', 'Wankhede Stadium, Mumbai',\n",
       "       'Zayed Cricket Stadium, Abu Dhabi'], dtype=object)"
      ]
     },
     "execution_count": 12,
     "metadata": {},
     "output_type": "execute_result"
    }
   ],
   "source": [
    "np.unique(np.array(csv['venue']))"
   ]
  },
  {
   "cell_type": "code",
   "execution_count": null,
   "id": "a0c30cab",
   "metadata": {},
   "outputs": [],
   "source": []
  },
  {
   "cell_type": "markdown",
   "id": "7de1f869",
   "metadata": {},
   "source": [
    "# Stadium Name correcction"
   ]
  },
  {
   "cell_type": "code",
   "execution_count": 18,
   "id": "0ac8d978",
   "metadata": {},
   "outputs": [
    {
     "data": {
      "application/vnd.microsoft.datawrangler.viewer.v0+json": {
       "columns": [
        {
         "name": "index",
         "rawType": "int64",
         "type": "integer"
        },
        {
         "name": "match_id",
         "rawType": "int64",
         "type": "integer"
        },
        {
         "name": "season",
         "rawType": "object",
         "type": "string"
        },
        {
         "name": "city",
         "rawType": "object",
         "type": "string"
        },
        {
         "name": "date",
         "rawType": "object",
         "type": "string"
        },
        {
         "name": "match_type",
         "rawType": "object",
         "type": "string"
        },
        {
         "name": "player_of_match",
         "rawType": "object",
         "type": "string"
        },
        {
         "name": "venue",
         "rawType": "object",
         "type": "string"
        },
        {
         "name": "team1",
         "rawType": "object",
         "type": "string"
        },
        {
         "name": "team2",
         "rawType": "object",
         "type": "string"
        },
        {
         "name": "toss_winner",
         "rawType": "object",
         "type": "string"
        },
        {
         "name": "toss_decision",
         "rawType": "object",
         "type": "string"
        },
        {
         "name": "winner",
         "rawType": "object",
         "type": "string"
        },
        {
         "name": "result",
         "rawType": "object",
         "type": "string"
        },
        {
         "name": "result_margin",
         "rawType": "float64",
         "type": "float"
        },
        {
         "name": "target_runs",
         "rawType": "float64",
         "type": "float"
        },
        {
         "name": "target_overs",
         "rawType": "float64",
         "type": "float"
        },
        {
         "name": "super_over",
         "rawType": "object",
         "type": "string"
        },
        {
         "name": "method",
         "rawType": "object",
         "type": "unknown"
        },
        {
         "name": "umpire1",
         "rawType": "object",
         "type": "string"
        },
        {
         "name": "umpire2",
         "rawType": "object",
         "type": "string"
        }
       ],
       "conversionMethod": "pd.DataFrame",
       "ref": "95aeda8d-6558-4f91-9518-2e74d51fa9ce",
       "rows": [
        [
         "0",
         "335982",
         "2007/08",
         "Bangalore",
         "2008-04-18",
         "League",
         "BB McCullum",
         "M Chinnaswamy Stadium",
         "Royal Challengers Bangalore",
         "Kolkata Knight Riders",
         "Royal Challengers Bangalore",
         "field",
         "Kolkata Knight Riders",
         "runs",
         "140.0",
         "223.0",
         "20.0",
         "N",
         null,
         "Asad Rauf",
         "RE Koertzen"
        ],
        [
         "1",
         "335983",
         "2007/08",
         "Chandigarh",
         "2008-04-19",
         "League",
         "MEK Hussey",
         "Punjab Cricket Association Stadium, Mohali",
         "Kings XI Punjab",
         "Chennai Super Kings",
         "Chennai Super Kings",
         "bat",
         "Chennai Super Kings",
         "runs",
         "33.0",
         "241.0",
         "20.0",
         "N",
         null,
         "MR Benson",
         "SL Shastri"
        ],
        [
         "2",
         "335984",
         "2007/08",
         "Delhi",
         "2008-04-19",
         "League",
         "MF Maharoof",
         "Feroz Shah Kotla",
         "Delhi Daredevils",
         "Rajasthan Royals",
         "Rajasthan Royals",
         "bat",
         "Delhi Daredevils",
         "wickets",
         "9.0",
         "130.0",
         "20.0",
         "N",
         null,
         "Aleem Dar",
         "GA Pratapkumar"
        ],
        [
         "3",
         "335985",
         "2007/08",
         "Mumbai",
         "2008-04-20",
         "League",
         "MV Boucher",
         "Wankhede Stadium",
         "Mumbai Indians",
         "Royal Challengers Bangalore",
         "Mumbai Indians",
         "bat",
         "Royal Challengers Bangalore",
         "wickets",
         "5.0",
         "166.0",
         "20.0",
         "N",
         null,
         "SJ Davis",
         "DJ Harper"
        ],
        [
         "4",
         "335986",
         "2007/08",
         "Kolkata",
         "2008-04-20",
         "League",
         "DJ Hussey",
         "Eden Gardens",
         "Kolkata Knight Riders",
         "Deccan Chargers",
         "Deccan Chargers",
         "bat",
         "Kolkata Knight Riders",
         "wickets",
         "5.0",
         "111.0",
         "20.0",
         "N",
         null,
         "BF Bowden",
         "K Hariharan"
        ]
       ],
       "shape": {
        "columns": 20,
        "rows": 5
       }
      },
      "text/html": [
       "<div>\n",
       "<style scoped>\n",
       "    .dataframe tbody tr th:only-of-type {\n",
       "        vertical-align: middle;\n",
       "    }\n",
       "\n",
       "    .dataframe tbody tr th {\n",
       "        vertical-align: top;\n",
       "    }\n",
       "\n",
       "    .dataframe thead th {\n",
       "        text-align: right;\n",
       "    }\n",
       "</style>\n",
       "<table border=\"1\" class=\"dataframe\">\n",
       "  <thead>\n",
       "    <tr style=\"text-align: right;\">\n",
       "      <th></th>\n",
       "      <th>match_id</th>\n",
       "      <th>season</th>\n",
       "      <th>city</th>\n",
       "      <th>date</th>\n",
       "      <th>match_type</th>\n",
       "      <th>player_of_match</th>\n",
       "      <th>venue</th>\n",
       "      <th>team1</th>\n",
       "      <th>team2</th>\n",
       "      <th>toss_winner</th>\n",
       "      <th>toss_decision</th>\n",
       "      <th>winner</th>\n",
       "      <th>result</th>\n",
       "      <th>result_margin</th>\n",
       "      <th>target_runs</th>\n",
       "      <th>target_overs</th>\n",
       "      <th>super_over</th>\n",
       "      <th>method</th>\n",
       "      <th>umpire1</th>\n",
       "      <th>umpire2</th>\n",
       "    </tr>\n",
       "  </thead>\n",
       "  <tbody>\n",
       "    <tr>\n",
       "      <th>0</th>\n",
       "      <td>335982</td>\n",
       "      <td>2007/08</td>\n",
       "      <td>Bangalore</td>\n",
       "      <td>2008-04-18</td>\n",
       "      <td>League</td>\n",
       "      <td>BB McCullum</td>\n",
       "      <td>M Chinnaswamy Stadium</td>\n",
       "      <td>Royal Challengers Bangalore</td>\n",
       "      <td>Kolkata Knight Riders</td>\n",
       "      <td>Royal Challengers Bangalore</td>\n",
       "      <td>field</td>\n",
       "      <td>Kolkata Knight Riders</td>\n",
       "      <td>runs</td>\n",
       "      <td>140.0</td>\n",
       "      <td>223.0</td>\n",
       "      <td>20.0</td>\n",
       "      <td>N</td>\n",
       "      <td>NaN</td>\n",
       "      <td>Asad Rauf</td>\n",
       "      <td>RE Koertzen</td>\n",
       "    </tr>\n",
       "    <tr>\n",
       "      <th>1</th>\n",
       "      <td>335983</td>\n",
       "      <td>2007/08</td>\n",
       "      <td>Chandigarh</td>\n",
       "      <td>2008-04-19</td>\n",
       "      <td>League</td>\n",
       "      <td>MEK Hussey</td>\n",
       "      <td>Punjab Cricket Association Stadium, Mohali</td>\n",
       "      <td>Kings XI Punjab</td>\n",
       "      <td>Chennai Super Kings</td>\n",
       "      <td>Chennai Super Kings</td>\n",
       "      <td>bat</td>\n",
       "      <td>Chennai Super Kings</td>\n",
       "      <td>runs</td>\n",
       "      <td>33.0</td>\n",
       "      <td>241.0</td>\n",
       "      <td>20.0</td>\n",
       "      <td>N</td>\n",
       "      <td>NaN</td>\n",
       "      <td>MR Benson</td>\n",
       "      <td>SL Shastri</td>\n",
       "    </tr>\n",
       "    <tr>\n",
       "      <th>2</th>\n",
       "      <td>335984</td>\n",
       "      <td>2007/08</td>\n",
       "      <td>Delhi</td>\n",
       "      <td>2008-04-19</td>\n",
       "      <td>League</td>\n",
       "      <td>MF Maharoof</td>\n",
       "      <td>Feroz Shah Kotla</td>\n",
       "      <td>Delhi Daredevils</td>\n",
       "      <td>Rajasthan Royals</td>\n",
       "      <td>Rajasthan Royals</td>\n",
       "      <td>bat</td>\n",
       "      <td>Delhi Daredevils</td>\n",
       "      <td>wickets</td>\n",
       "      <td>9.0</td>\n",
       "      <td>130.0</td>\n",
       "      <td>20.0</td>\n",
       "      <td>N</td>\n",
       "      <td>NaN</td>\n",
       "      <td>Aleem Dar</td>\n",
       "      <td>GA Pratapkumar</td>\n",
       "    </tr>\n",
       "    <tr>\n",
       "      <th>3</th>\n",
       "      <td>335985</td>\n",
       "      <td>2007/08</td>\n",
       "      <td>Mumbai</td>\n",
       "      <td>2008-04-20</td>\n",
       "      <td>League</td>\n",
       "      <td>MV Boucher</td>\n",
       "      <td>Wankhede Stadium</td>\n",
       "      <td>Mumbai Indians</td>\n",
       "      <td>Royal Challengers Bangalore</td>\n",
       "      <td>Mumbai Indians</td>\n",
       "      <td>bat</td>\n",
       "      <td>Royal Challengers Bangalore</td>\n",
       "      <td>wickets</td>\n",
       "      <td>5.0</td>\n",
       "      <td>166.0</td>\n",
       "      <td>20.0</td>\n",
       "      <td>N</td>\n",
       "      <td>NaN</td>\n",
       "      <td>SJ Davis</td>\n",
       "      <td>DJ Harper</td>\n",
       "    </tr>\n",
       "    <tr>\n",
       "      <th>4</th>\n",
       "      <td>335986</td>\n",
       "      <td>2007/08</td>\n",
       "      <td>Kolkata</td>\n",
       "      <td>2008-04-20</td>\n",
       "      <td>League</td>\n",
       "      <td>DJ Hussey</td>\n",
       "      <td>Eden Gardens</td>\n",
       "      <td>Kolkata Knight Riders</td>\n",
       "      <td>Deccan Chargers</td>\n",
       "      <td>Deccan Chargers</td>\n",
       "      <td>bat</td>\n",
       "      <td>Kolkata Knight Riders</td>\n",
       "      <td>wickets</td>\n",
       "      <td>5.0</td>\n",
       "      <td>111.0</td>\n",
       "      <td>20.0</td>\n",
       "      <td>N</td>\n",
       "      <td>NaN</td>\n",
       "      <td>BF Bowden</td>\n",
       "      <td>K Hariharan</td>\n",
       "    </tr>\n",
       "  </tbody>\n",
       "</table>\n",
       "</div>"
      ],
      "text/plain": [
       "   match_id   season        city        date match_type player_of_match  \\\n",
       "0    335982  2007/08   Bangalore  2008-04-18     League     BB McCullum   \n",
       "1    335983  2007/08  Chandigarh  2008-04-19     League      MEK Hussey   \n",
       "2    335984  2007/08       Delhi  2008-04-19     League     MF Maharoof   \n",
       "3    335985  2007/08      Mumbai  2008-04-20     League      MV Boucher   \n",
       "4    335986  2007/08     Kolkata  2008-04-20     League       DJ Hussey   \n",
       "\n",
       "                                        venue                        team1  \\\n",
       "0                       M Chinnaswamy Stadium  Royal Challengers Bangalore   \n",
       "1  Punjab Cricket Association Stadium, Mohali              Kings XI Punjab   \n",
       "2                            Feroz Shah Kotla             Delhi Daredevils   \n",
       "3                            Wankhede Stadium               Mumbai Indians   \n",
       "4                                Eden Gardens        Kolkata Knight Riders   \n",
       "\n",
       "                         team2                  toss_winner toss_decision  \\\n",
       "0        Kolkata Knight Riders  Royal Challengers Bangalore         field   \n",
       "1          Chennai Super Kings          Chennai Super Kings           bat   \n",
       "2             Rajasthan Royals             Rajasthan Royals           bat   \n",
       "3  Royal Challengers Bangalore               Mumbai Indians           bat   \n",
       "4              Deccan Chargers              Deccan Chargers           bat   \n",
       "\n",
       "                        winner   result  result_margin  target_runs  \\\n",
       "0        Kolkata Knight Riders     runs          140.0        223.0   \n",
       "1          Chennai Super Kings     runs           33.0        241.0   \n",
       "2             Delhi Daredevils  wickets            9.0        130.0   \n",
       "3  Royal Challengers Bangalore  wickets            5.0        166.0   \n",
       "4        Kolkata Knight Riders  wickets            5.0        111.0   \n",
       "\n",
       "   target_overs super_over method    umpire1         umpire2  \n",
       "0          20.0          N    NaN  Asad Rauf     RE Koertzen  \n",
       "1          20.0          N    NaN  MR Benson      SL Shastri  \n",
       "2          20.0          N    NaN  Aleem Dar  GA Pratapkumar  \n",
       "3          20.0          N    NaN   SJ Davis       DJ Harper  \n",
       "4          20.0          N    NaN  BF Bowden     K Hariharan  "
      ]
     },
     "execution_count": 18,
     "metadata": {},
     "output_type": "execute_result"
    }
   ],
   "source": [
    "csv_path = '/Users/nandhakishorecs/Documents/IITM/Jan_2025/DA5402/DA5402_AI_Application/dags/matches.csv'\n",
    "\n",
    "df = pd.read_csv(csv_path)\n",
    "df.head() "
   ]
  },
  {
   "cell_type": "code",
   "execution_count": 20,
   "id": "7b7712dd",
   "metadata": {},
   "outputs": [
    {
     "data": {
      "text/plain": [
       "58"
      ]
     },
     "execution_count": 20,
     "metadata": {},
     "output_type": "execute_result"
    }
   ],
   "source": [
    "len(np.unique(np.array(df['venue'])))"
   ]
  },
  {
   "cell_type": "code",
   "execution_count": 26,
   "id": "6b6adff5",
   "metadata": {},
   "outputs": [],
   "source": [
    "import pandas as pd\n",
    "\n",
    "def replace_team_names(df, replacement_dict, output_path=None):\n",
    "    \"\"\"\n",
    "    Replace values in 'team1' and 'team2' columns based on a user-provided dictionary.\n",
    "\n",
    "    Args:\n",
    "        csv_path (str): Path to the input CSV file.\n",
    "        replacement_dict (dict): Dictionary where keys are old names and values are new names.\n",
    "        output_path (str, optional): Path to save the updated CSV. If None, overwrites the input CSV.\n",
    "    \"\"\"\n",
    "    # Read the CSV\n",
    "    # df = pd.read_csv(csv_path)\n",
    "    \n",
    "    # Replace in both columns\n",
    "    for column in ['venue']:\n",
    "        if column in df.columns:\n",
    "            df[column] = df[column].map(replacement_dict).fillna(df[column])\n",
    "        else:\n",
    "            raise ValueError(f\"Column '{column}' not found in CSV.\")\n",
    "    \n",
    "    # Save the updated CSV\n",
    "    if output_path is None:\n",
    "        output_path = csv_path  # overwrite\n",
    "    df.to_csv(output_path, index=False)\n",
    "    \n",
    "    print(f\"Replacement done! File saved at: {output_path}\")\n"
   ]
  },
  {
   "cell_type": "code",
   "execution_count": 27,
   "id": "19bfb546",
   "metadata": {},
   "outputs": [
    {
     "data": {
      "text/plain": [
       "array(['Arun Jaitley Stadium', 'Arun Jaitley Stadium, Delhi',\n",
       "       'Barabati Stadium', 'Barsapara Cricket Stadium, Guwahati',\n",
       "       'Bharat Ratna Shri Atal Bihari Vajpayee Ekana Cricket Stadium, Lucknow',\n",
       "       'Brabourne Stadium', 'Brabourne Stadium, Mumbai', 'Buffalo Park',\n",
       "       'De Beers Diamond Oval', 'Dr DY Patil Sports Academy',\n",
       "       'Dr DY Patil Sports Academy, Mumbai',\n",
       "       'Dr. Y.S. Rajasekhara Reddy ACA-VDCA Cricket Stadium',\n",
       "       'Dr. Y.S. Rajasekhara Reddy ACA-VDCA Cricket Stadium, Visakhapatnam',\n",
       "       'Dubai International Cricket Stadium', 'Eden Gardens',\n",
       "       'Eden Gardens, Kolkata', 'Feroz Shah Kotla', 'Green Park',\n",
       "       'Himachal Pradesh Cricket Association Stadium',\n",
       "       'Himachal Pradesh Cricket Association Stadium, Dharamsala',\n",
       "       'Holkar Cricket Stadium', 'JSCA International Stadium Complex',\n",
       "       'Kingsmead', 'M Chinnaswamy Stadium',\n",
       "       'M Chinnaswamy Stadium, Bengaluru', 'M.Chinnaswamy Stadium',\n",
       "       'MA Chidambaram Stadium', 'MA Chidambaram Stadium, Chepauk',\n",
       "       'MA Chidambaram Stadium, Chepauk, Chennai',\n",
       "       'Maharaja Yadavindra Singh International Cricket Stadium, Mullanpur',\n",
       "       'Maharashtra Cricket Association Stadium',\n",
       "       'Maharashtra Cricket Association Stadium, Pune',\n",
       "       'Narendra Modi Stadium, Ahmedabad', 'Nehru Stadium',\n",
       "       'New Wanderers Stadium', 'Newlands', 'OUTsurance Oval',\n",
       "       'Punjab Cricket Association IS Bindra Stadium',\n",
       "       'Punjab Cricket Association IS Bindra Stadium, Mohali',\n",
       "       'Punjab Cricket Association IS Bindra Stadium, Mohali, Chandigarh',\n",
       "       'Punjab Cricket Association Stadium, Mohali',\n",
       "       'Rajiv Gandhi International Stadium',\n",
       "       'Rajiv Gandhi International Stadium, Uppal',\n",
       "       'Rajiv Gandhi International Stadium, Uppal, Hyderabad',\n",
       "       'Sardar Patel Stadium, Motera',\n",
       "       'Saurashtra Cricket Association Stadium', 'Sawai Mansingh Stadium',\n",
       "       'Sawai Mansingh Stadium, Jaipur',\n",
       "       'Shaheed Veer Narayan Singh International Stadium',\n",
       "       'Sharjah Cricket Stadium', 'Sheikh Zayed Stadium',\n",
       "       \"St George's Park\", 'Subrata Roy Sahara Stadium',\n",
       "       'SuperSport Park', 'Vidarbha Cricket Association Stadium, Jamtha',\n",
       "       'Wankhede Stadium', 'Wankhede Stadium, Mumbai',\n",
       "       'Zayed Cricket Stadium, Abu Dhabi'], dtype=object)"
      ]
     },
     "execution_count": 27,
     "metadata": {},
     "output_type": "execute_result"
    }
   ],
   "source": [
    "np.unique(np.array(df['venue']))"
   ]
  },
  {
   "cell_type": "code",
   "execution_count": 28,
   "id": "b14e8132",
   "metadata": {},
   "outputs": [
    {
     "name": "stdout",
     "output_type": "stream",
     "text": [
      "Replacement done! File saved at: /Users/nandhakishorecs/Documents/IITM/Jan_2025/DA5402/DA5402_AI_Application/dags/matches.csv\n"
     ]
    }
   ],
   "source": [
    "replacement = {\n",
    "    'Arun Jaitley Stadium': 'Arun Jaitley Stadium, Delhi',\n",
    "\t'Barabati Stadium': 'Barabati Stadium, Odissa',\n",
    "\t'Brabourne Stadium': 'Brabourne Stadium, Mumbai', \n",
    "    'Buffalo Park': 'Buffalo Park, South Africa',\n",
    "\t'De Beers Diamond Oval': 'De Beers Diamond Oval, South Africa', \n",
    "    'Dr DY Patil Sports Academy': 'Dr DY Patil Sports Academy, Mumbai',\n",
    "\t'Dr. Y.S. Rajasekhara Reddy ACA-VDCA Cricket Stadium': 'Dr. Y.S. Rajasekhara Reddy ACA-VDCA Cricket Stadium, Visakhapatnam',\n",
    "\t'Eden Gardens': 'Eden Gardens, Kolkata', \n",
    "    'Feroz Shah Kotla': 'Feroz Shah Kotla, Delhi',\n",
    "    'Green Park': 'Green Park, Kanpur',\n",
    "\t'Himachal Pradesh Cricket Association Stadium': 'Himachal Pradesh Cricket Association Stadium, Dharamsala',\n",
    "\t'Holkar Cricket Stadium': 'Holkar Cricket Stadium, Indore', \n",
    "    'JSCA International Stadium Complex' : 'JSCA International Stadium Complex, Ranchi',\n",
    "\t'Kingsmead': 'Kingsmead, South Africa', \n",
    "    'M Chinnaswamy Stadium': 'M Chinnaswamy Stadium, Bengaluru',\n",
    "\t'M.Chinnaswamy Stadium': 'M Chinnaswamy Stadium, Bengaluru',\n",
    "\t'MA Chidambaram Stadium': 'MA Chidambaram Stadium, Chepauk, Chennai', \n",
    "    'MA Chidambaram Stadium, Chepauk': 'MA Chidambaram Stadium, Chepauk, Chennai',\n",
    "\t'Maharashtra Cricket Association Stadium': 'Maharashtra Cricket Association Stadium, Pune',\n",
    "\t'Nehru Stadium': 'Nehru Stadium, Guwahati',\n",
    "\t'New Wanderers Stadium': 'New Wanderers Stadium, South Africa', \n",
    "    'Newlands': 'Newlands, South Africa', \n",
    "    'OUTsurance Oval': 'OUTsurance Oval, South Africa',\n",
    "\t'Punjab Cricket Association IS Bindra Stadium': 'Punjab Cricket Association IS Bindra Stadium, Mohali',\n",
    "\t'Punjab Cricket Association IS Bindra Stadium, Mohali, Chandigarh': 'Punjab Cricket Association IS Bindra Stadium, Mohali',\n",
    "\t'Punjab Cricket Association Stadium, Mohali': 'Punjab Cricket Association IS Bindra Stadium, Mohali',\n",
    "\t'Rajiv Gandhi International Stadium': 'Rajiv Gandhi International Stadium, Uppal, Hyderabad',\n",
    "\t'Rajiv Gandhi International Stadium, Uppal': 'Rajiv Gandhi International Stadium, Uppal, Hyderabad',\n",
    "\t'Saurashtra Cricket Association Stadium': 'Saurashtra Cricket Association Stadium, Rajkot', \n",
    "    'Sawai Mansingh Stadium':'Sawai Mansingh Stadium, Jaipur',\n",
    "\t'Shaheed Veer Narayan Singh International Stadium': 'Shaheed Veer Narayan Singh International Stadium, New Raipur',\n",
    "\t'Sheikh Zayed Stadium': 'Zayed Cricket Stadium, Abu Dhabi',\n",
    "\t\"St George's Park\": \"St George's Park, South Africa\", \n",
    "    'Subrata Roy Sahara Stadium': 'Maharashtra Cricket Association Stadium, Pune',\n",
    "\t'SuperSport Park':'SuperSport Park, South Africa', \n",
    "\t'Wankhede Stadium': 'Wankhede Stadium, Mumbai',\n",
    "}\n",
    "replace_team_names(df, replacement)"
   ]
  },
  {
   "cell_type": "code",
   "execution_count": 29,
   "id": "38841554",
   "metadata": {},
   "outputs": [
    {
     "data": {
      "text/plain": [
       "array(['Arun Jaitley Stadium, Delhi', 'Barabati Stadium, Odissa',\n",
       "       'Barsapara Cricket Stadium, Guwahati',\n",
       "       'Bharat Ratna Shri Atal Bihari Vajpayee Ekana Cricket Stadium, Lucknow',\n",
       "       'Brabourne Stadium, Mumbai', 'Buffalo Park, South Africa',\n",
       "       'De Beers Diamond Oval, South Africa',\n",
       "       'Dr DY Patil Sports Academy, Mumbai',\n",
       "       'Dr. Y.S. Rajasekhara Reddy ACA-VDCA Cricket Stadium, Visakhapatnam',\n",
       "       'Dubai International Cricket Stadium', 'Eden Gardens, Kolkata',\n",
       "       'Feroz Shah Kotla, Delhi', 'Green Park, Kanpur',\n",
       "       'Himachal Pradesh Cricket Association Stadium, Dharamsala',\n",
       "       'Holkar Cricket Stadium, Indore',\n",
       "       'JSCA International Stadium Complex, Ranchi',\n",
       "       'Kingsmead, South Africa', 'M Chinnaswamy Stadium, Bengaluru',\n",
       "       'MA Chidambaram Stadium, Chepauk, Chennai',\n",
       "       'Maharaja Yadavindra Singh International Cricket Stadium, Mullanpur',\n",
       "       'Maharashtra Cricket Association Stadium, Pune',\n",
       "       'Narendra Modi Stadium, Ahmedabad', 'Nehru Stadium, Guwahati',\n",
       "       'New Wanderers Stadium, South Africa', 'Newlands, South Africa',\n",
       "       'OUTsurance Oval, South Africa',\n",
       "       'Punjab Cricket Association IS Bindra Stadium, Mohali',\n",
       "       'Rajiv Gandhi International Stadium, Uppal, Hyderabad',\n",
       "       'Sardar Patel Stadium, Motera',\n",
       "       'Saurashtra Cricket Association Stadium, Rajkot',\n",
       "       'Sawai Mansingh Stadium, Jaipur',\n",
       "       'Shaheed Veer Narayan Singh International Stadium, New Raipur',\n",
       "       'Sharjah Cricket Stadium', \"St George's Park, South Africa\",\n",
       "       'SuperSport Park, South Africa',\n",
       "       'Vidarbha Cricket Association Stadium, Jamtha',\n",
       "       'Wankhede Stadium, Mumbai', 'Zayed Cricket Stadium, Abu Dhabi'],\n",
       "      dtype=object)"
      ]
     },
     "execution_count": 29,
     "metadata": {},
     "output_type": "execute_result"
    }
   ],
   "source": [
    "f = pd.read_csv('/Users/nandhakishorecs/Documents/IITM/Jan_2025/DA5402/DA5402_AI_Application/dags/matches.csv')\n",
    "np.unique(np.array(f['venue']))"
   ]
  },
  {
   "cell_type": "code",
   "execution_count": 30,
   "id": "aaa040b7",
   "metadata": {},
   "outputs": [
    {
     "data": {
      "text/plain": [
       "38"
      ]
     },
     "execution_count": 30,
     "metadata": {},
     "output_type": "execute_result"
    }
   ],
   "source": [
    "len(np.unique(np.array(f['venue'])))"
   ]
  },
  {
   "cell_type": "markdown",
   "id": "75e1de2c",
   "metadata": {},
   "source": [
    "# Drift\n"
   ]
  },
  {
   "cell_type": "code",
   "execution_count": 1,
   "id": "e28f995d",
   "metadata": {},
   "outputs": [],
   "source": [
    "import pandas as pd\n",
    "\n",
    "\n",
    "df = pd.read_csv('/Users/nandhakishorecs/Documents/IITM/Jan_2025/DA5402/DA5402_AI_Application/dags/ipl_data_processed.csv')\n",
    "# Suppose your dataframe is called df\n",
    "# Step 1: Create a boolean mask where any of the 3 columns contain 'LSG'\n",
    "mask = (df['team1'] == 'Lucknow Super Giants') | (df['team2'] == 'Lucknow Super Giants') | (df['toss_winner'] == 'Lucknow Super Giants')\n",
    "\n",
    "# Step 2: Split the dataframe\n",
    "df_lsg = df[mask].copy()         # Rows where LSG is involved\n",
    "# df_main = df[~mask].copy()        # Rows where LSG is not involved\n",
    "df_lsg.to_csv('drift.csv')"
   ]
  },
  {
   "cell_type": "code",
   "execution_count": null,
   "id": "19c89ceb",
   "metadata": {},
   "outputs": [],
   "source": []
  }
 ],
 "metadata": {
  "kernelspec": {
   "display_name": ".venv",
   "language": "python",
   "name": "python3"
  },
  "language_info": {
   "codemirror_mode": {
    "name": "ipython",
    "version": 3
   },
   "file_extension": ".py",
   "mimetype": "text/x-python",
   "name": "python",
   "nbconvert_exporter": "python",
   "pygments_lexer": "ipython3",
   "version": "3.13.3"
  }
 },
 "nbformat": 4,
 "nbformat_minor": 5
}
